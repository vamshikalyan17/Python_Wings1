{
 "cells": [
  {
   "cell_type": "code",
   "execution_count": 1,
   "id": "0d73c717",
   "metadata": {},
   "outputs": [
    {
     "name": "stdout",
     "output_type": "stream",
     "text": [
      "Hello World\n"
     ]
    }
   ],
   "source": [
    "print(\"Hello World\")"
   ]
  },
  {
   "cell_type": "code",
   "execution_count": 2,
   "id": "d6942990",
   "metadata": {},
   "outputs": [
    {
     "name": "stdout",
     "output_type": "stream",
     "text": [
      "1 2 3\n"
     ]
    }
   ],
   "source": [
    "li = [1, 2, 3]\n",
    "a, b, c = li\n",
    "print(a, b, c)"
   ]
  },
  {
   "cell_type": "code",
   "execution_count": 4,
   "id": "6e3f4861",
   "metadata": {},
   "outputs": [
    {
     "data": {
      "text/plain": [
       "'strip2 lkjdfl'"
      ]
     },
     "execution_count": 4,
     "metadata": {},
     "output_type": "execute_result"
    }
   ],
   "source": [
    "a = \"strip2 lkjdfl2\"\n",
    "b = a.strip(\"2\")\n",
    "b"
   ]
  },
  {
   "cell_type": "code",
   "execution_count": 11,
   "id": "69cf4723",
   "metadata": {},
   "outputs": [
    {
     "name": "stdout",
     "output_type": "stream",
     "text": [
      "Brand : Ford , Model Mustang\n",
      "Move...\n",
      "Brand : David's Boat , Model Titanic\n",
      "Sail...\n",
      "Brand : Deccand , Model Air line\n",
      "Fly...\n"
     ]
    }
   ],
   "source": [
    "class Vehical:\n",
    "    def __init__(self, brand, model):\n",
    "        self.brand = brand\n",
    "        self.model = model\n",
    "    \n",
    "    def move(self):\n",
    "        print(\"Move...\")\n",
    "\n",
    "class Car(Vehical):\n",
    "    def __init__(self, brand, model):\n",
    "        super().__init__(brand, model)\n",
    "    \n",
    "class Boat(Vehical):\n",
    "    def __init__(self, brand, model):\n",
    "        super().__init__(brand, model)\n",
    "    \n",
    "    def move(self):\n",
    "        print(\"Sail...\")\n",
    "\n",
    "class Plane(Vehical):\n",
    "    def __init__(self, brand, model):\n",
    "        super().__init__(brand, model)\n",
    "        \n",
    "    def move(self):\n",
    "        print(\"Fly...\")\n",
    "\n",
    "c = Car(\"Ford\", \"Mustang\")\n",
    "b = Boat(\"David's Boat\", \"Titanic\")\n",
    "p = Plane(\"Deccand\", \"Air line\")\n",
    "\n",
    "for i in (c, b, p):\n",
    "    print(\"Brand :\", i.brand, \",\", end = \" \")\n",
    "    print(\"Model\", i.model)\n",
    "    i.move()"
   ]
  },
  {
   "cell_type": "code",
   "execution_count": null,
   "id": "9b77a5bd",
   "metadata": {},
   "outputs": [],
   "source": []
  }
 ],
 "metadata": {
  "kernelspec": {
   "display_name": "Python 3 (ipykernel)",
   "language": "python",
   "name": "python3"
  },
  "language_info": {
   "codemirror_mode": {
    "name": "ipython",
    "version": 3
   },
   "file_extension": ".py",
   "mimetype": "text/x-python",
   "name": "python",
   "nbconvert_exporter": "python",
   "pygments_lexer": "ipython3",
   "version": "3.9.11"
  }
 },
 "nbformat": 4,
 "nbformat_minor": 5
}
