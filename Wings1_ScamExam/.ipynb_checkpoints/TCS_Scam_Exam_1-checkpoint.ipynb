{
 "cells": [
  {
   "cell_type": "code",
   "execution_count": 1,
   "id": "0d73c717",
   "metadata": {},
   "outputs": [
    {
     "name": "stdout",
     "output_type": "stream",
     "text": [
      "Hello World\n"
     ]
    }
   ],
   "source": [
    "print(\"Hello World\")"
   ]
  },
  {
   "cell_type": "code",
   "execution_count": 2,
   "id": "d6942990",
   "metadata": {},
   "outputs": [
    {
     "name": "stdout",
     "output_type": "stream",
     "text": [
      "1 2 3\n"
     ]
    }
   ],
   "source": [
    "li = [1, 2, 3]\n",
    "a, b, c = li\n",
    "print(a, b, c)"
   ]
  },
  {
   "cell_type": "code",
   "execution_count": 4,
   "id": "6e3f4861",
   "metadata": {},
   "outputs": [
    {
     "data": {
      "text/plain": [
       "'strip2 lkjdfl'"
      ]
     },
     "execution_count": 4,
     "metadata": {},
     "output_type": "execute_result"
    }
   ],
   "source": [
    "a = \"strip2 lkjdfl2\"\n",
    "b = a.strip(\"2\")\n",
    "b"
   ]
  },
  {
   "cell_type": "code",
   "execution_count": 11,
   "id": "69cf4723",
   "metadata": {},
   "outputs": [
    {
     "name": "stdout",
     "output_type": "stream",
     "text": [
      "Brand : Ford , Model Mustang\n",
      "Move...\n",
      "Brand : David's Boat , Model Titanic\n",
      "Sail...\n",
      "Brand : Deccand , Model Air line\n",
      "Fly...\n"
     ]
    }
   ],
   "source": [
    "class Vehical:\n",
    "    def __init__(self, brand, model):\n",
    "        self.brand = brand\n",
    "        self.model = model\n",
    "    \n",
    "    def move(self):\n",
    "        print(\"Move...\")\n",
    "\n",
    "class Car(Vehical):\n",
    "    def __init__(self, brand, model):\n",
    "        super().__init__(brand, model)\n",
    "    \n",
    "class Boat(Vehical):\n",
    "    def __init__(self, brand, model):\n",
    "        super().__init__(brand, model)\n",
    "    \n",
    "    def move(self):\n",
    "        print(\"Sail...\")\n",
    "\n",
    "class Plane(Vehical):\n",
    "    def __init__(self, brand, model):\n",
    "        super().__init__(brand, model)\n",
    "        \n",
    "    def move(self):\n",
    "        print(\"Fly...\")\n",
    "\n",
    "c = Car(\"Ford\", \"Mustang\")\n",
    "b = Boat(\"David's Boat\", \"Titanic\")\n",
    "p = Plane(\"Deccand\", \"Air line\")\n",
    "\n",
    "for i in (c, b, p):\n",
    "    print(\"Brand :\", i.brand, \",\", end = \" \")\n",
    "    print(\"Model\", i.model)\n",
    "    i.move()"
   ]
  },
  {
   "cell_type": "code",
   "execution_count": 4,
   "id": "9b77a5bd",
   "metadata": {},
   "outputs": [
    {
     "name": "stdout",
     "output_type": "stream",
     "text": [
      "10\n"
     ]
    }
   ],
   "source": [
    "global x\n",
    "x = 10\n",
    "def fun():\n",
    "    x = 400\n",
    "fun()\n",
    "print(x)"
   ]
  },
  {
   "cell_type": "code",
   "execution_count": 14,
   "id": "207bef7a",
   "metadata": {},
   "outputs": [
    {
     "name": "stdout",
     "output_type": "stream",
     "text": [
      "intelligence : smart intelligence\n",
      "firstName : Vamshi firstName\n",
      "lastName : Krishna lastName\n"
     ]
    }
   ],
   "source": [
    "def multi(**args):\n",
    "    for i in args:\n",
    "        print(i, \":\", args[i], i)\n",
    "\n",
    "multi(intelligence = \"smart\", firstName = \"Vamshi\", lastName = \"Krishna\")"
   ]
  },
  {
   "cell_type": "code",
   "execution_count": 2,
   "id": "834a6cc9",
   "metadata": {},
   "outputs": [
    {
     "name": "stdout",
     "output_type": "stream",
     "text": [
      "120\n"
     ]
    }
   ],
   "source": [
    "from functools import reduce\n",
    "li = [1, 2, 3, 4, 5]\n",
    "\n",
    "lam = lambda a, b : a * b\n",
    "\n",
    "r = reduce(lam, li)\n",
    "\n",
    "print(r)"
   ]
  },
  {
   "cell_type": "code",
   "execution_count": 4,
   "id": "a1dc38fc",
   "metadata": {},
   "outputs": [
    {
     "name": "stdout",
     "output_type": "stream",
     "text": [
      "15\n"
     ]
    }
   ],
   "source": [
    "print(sum(li))"
   ]
  },
  {
   "cell_type": "code",
   "execution_count": 6,
   "id": "9edfa703",
   "metadata": {},
   "outputs": [
    {
     "name": "stdout",
     "output_type": "stream",
     "text": [
      "21\n"
     ]
    }
   ],
   "source": [
    "li = [1, 2, 3, 4, 5, 6]\n",
    "\n",
    "sums = 0\n",
    "\n",
    "for i in li:\n",
    "    sums += i\n",
    "\n",
    "print(sums)"
   ]
  },
  {
   "cell_type": "code",
   "execution_count": 12,
   "id": "e9c079ba",
   "metadata": {},
   "outputs": [
    {
     "name": "stdout",
     "output_type": "stream",
     "text": [
      "2023-07-15\n"
     ]
    }
   ],
   "source": [
    "import datetime\n",
    "\n",
    "print(datetime.date.today())"
   ]
  },
  {
   "cell_type": "code",
   "execution_count": 14,
   "id": "2abaa764",
   "metadata": {},
   "outputs": [
    {
     "name": "stdout",
     "output_type": "stream",
     "text": [
      "97\n",
      "98\n",
      "99\n"
     ]
    }
   ],
   "source": [
    "o = b'abc'\n",
    "for i in o:\n",
    "    print(i)"
   ]
  },
  {
   "cell_type": "code",
   "execution_count": 17,
   "id": "0928d1ed",
   "metadata": {},
   "outputs": [
    {
     "name": "stdout",
     "output_type": "stream",
     "text": [
      "97\n",
      "98\n",
      "99\n"
     ]
    }
   ],
   "source": [
    "ba = bytearray(\"abc\", \"utf-8\")\n",
    "\n",
    "for i in ba:\n",
    "    print(i)"
   ]
  },
  {
   "cell_type": "code",
   "execution_count": 20,
   "id": "af01b243",
   "metadata": {},
   "outputs": [
    {
     "name": "stdout",
     "output_type": "stream",
     "text": [
      "9\n",
      "9\n",
      "9\n"
     ]
    }
   ],
   "source": [
    "ba1 = bytearray(b'abc')\n",
    "\n",
    "for i in ba1:\n",
    "    print(max(str(i)))"
   ]
  },
  {
   "cell_type": "code",
   "execution_count": 29,
   "id": "4b99105e",
   "metadata": {},
   "outputs": [
    {
     "name": "stdout",
     "output_type": "stream",
     "text": [
      "acft\n",
      "97\n",
      "99\n",
      "102\n",
      "116\n"
     ]
    }
   ],
   "source": [
    "li = [\"a\", \"c\", \"f\", \"t\"]\n",
    "\n",
    "s = \"\".join(str(i) for i in li)\n",
    "\n",
    "print(s)\n",
    "\n",
    "ba2 = bytearray(s, \"utf-8\")\n",
    "\n",
    "for i in ba2:\n",
    "    print(i)"
   ]
  },
  {
   "cell_type": "code",
   "execution_count": 31,
   "id": "20792d6a",
   "metadata": {},
   "outputs": [
    {
     "name": "stdout",
     "output_type": "stream",
     "text": [
      "[2, 4, 6, 8]\n"
     ]
    }
   ],
   "source": [
    "li1 = [1, 2, 3, 4, 5, 6, 7, 8]\n",
    "\n",
    "fil = list(filter(lambda a : a % 2 == 0, li1))\n",
    "\n",
    "print(fil)"
   ]
  },
  {
   "cell_type": "code",
   "execution_count": 33,
   "id": "251be0d8",
   "metadata": {},
   "outputs": [
    {
     "name": "stdout",
     "output_type": "stream",
     "text": [
      "1 2 3 4 5 6 7\n",
      "[1, 2, 3, 4, 5, 6, 7]\n"
     ]
    }
   ],
   "source": [
    "inp = list(map(int, input().split()))\n",
    "\n",
    "print(inp)"
   ]
  },
  {
   "cell_type": "code",
   "execution_count": 36,
   "id": "20d7730b",
   "metadata": {},
   "outputs": [
    {
     "name": "stdout",
     "output_type": "stream",
     "text": [
      "vamshi krishna n\n",
      "['vamshi', 'krishna', 'n']\n",
      "['vamshi', 'krishna']\n"
     ]
    }
   ],
   "source": [
    "inp1 = list(input().split())\n",
    "fil1 = list(filter(lambda a : len(a) > 4, inp1))\n",
    "print(inp1)\n",
    "print(fil1)"
   ]
  },
  {
   "cell_type": "code",
   "execution_count": 38,
   "id": "84a16219",
   "metadata": {},
   "outputs": [
    {
     "name": "stdout",
     "output_type": "stream",
     "text": [
      "['krishna']\n"
     ]
    }
   ],
   "source": [
    "print(inp1[1 : 2])"
   ]
  },
  {
   "cell_type": "code",
   "execution_count": 41,
   "id": "9d7f176f",
   "metadata": {},
   "outputs": [
    {
     "ename": "AttributeError",
     "evalue": "'list' object has no attribute 'find'",
     "output_type": "error",
     "traceback": [
      "\u001b[1;31m---------------------------------------------------------------------------\u001b[0m",
      "\u001b[1;31mAttributeError\u001b[0m                            Traceback (most recent call last)",
      "Cell \u001b[1;32mIn [41], line 1\u001b[0m\n\u001b[1;32m----> 1\u001b[0m \u001b[38;5;28mprint\u001b[39m(\u001b[43minp1\u001b[49m\u001b[38;5;241;43m.\u001b[39;49m\u001b[43mfind\u001b[49m(\u001b[38;5;124m\"\u001b[39m\u001b[38;5;124mvamshi\u001b[39m\u001b[38;5;124m\"\u001b[39m))\n",
      "\u001b[1;31mAttributeError\u001b[0m: 'list' object has no attribute 'find'"
     ]
    }
   ],
   "source": [
    "print(inp1.find(\"vamshi\"))"
   ]
  },
  {
   "cell_type": "code",
   "execution_count": 43,
   "id": "553233c8",
   "metadata": {},
   "outputs": [
    {
     "data": {
      "text/plain": [
       "[1, 2, 3, 4]"
      ]
     },
     "execution_count": 43,
     "metadata": {},
     "output_type": "execute_result"
    }
   ],
   "source": [
    "l = list((1, 2, 3, 4))\n",
    "l"
   ]
  },
  {
   "cell_type": "code",
   "execution_count": 45,
   "id": "cd811ee9",
   "metadata": {},
   "outputs": [
    {
     "data": {
      "text/plain": [
       "{1, 2, 3, 4}"
      ]
     },
     "execution_count": 45,
     "metadata": {},
     "output_type": "execute_result"
    }
   ],
   "source": [
    "s = set([1, 2, 3, 4])\n",
    "s"
   ]
  },
  {
   "cell_type": "code",
   "execution_count": 46,
   "id": "65111c81",
   "metadata": {},
   "outputs": [
    {
     "data": {
      "text/plain": [
       "{1, 2, 3, 4}"
      ]
     },
     "execution_count": 46,
     "metadata": {},
     "output_type": "execute_result"
    }
   ],
   "source": [
    "s = set((1, 2, 3, 4))\n",
    "s"
   ]
  },
  {
   "cell_type": "code",
   "execution_count": 47,
   "id": "dfc35a28",
   "metadata": {},
   "outputs": [
    {
     "data": {
      "text/plain": [
       "(1, 2, 3, 4)"
      ]
     },
     "execution_count": 47,
     "metadata": {},
     "output_type": "execute_result"
    }
   ],
   "source": [
    "t = tuple((1, 2, 3, 4))\n",
    "t"
   ]
  },
  {
   "cell_type": "code",
   "execution_count": 48,
   "id": "1f49d471",
   "metadata": {},
   "outputs": [
    {
     "data": {
      "text/plain": [
       "{'name': 'vamshi', 'age': 22, 'bdate': 2000}"
      ]
     },
     "execution_count": 48,
     "metadata": {},
     "output_type": "execute_result"
    }
   ],
   "source": [
    "d = {\"name\": \"vamshi\", \"age\" : 22, \"bdate\": 2000}\n",
    "d"
   ]
  },
  {
   "cell_type": "code",
   "execution_count": 50,
   "id": "c62e84cf",
   "metadata": {},
   "outputs": [
    {
     "data": {
      "text/plain": [
       "[1, 2, 3, 4, 5, 6]"
      ]
     },
     "execution_count": 50,
     "metadata": {},
     "output_type": "execute_result"
    }
   ],
   "source": [
    "li = [1, 2, 2, 3, 5, 4, 4, 6, 5]\n",
    "\n",
    "sor = sorted(set(li), reverse = False)\n",
    "sor"
   ]
  },
  {
   "cell_type": "code",
   "execution_count": 55,
   "id": "dc29ef6a",
   "metadata": {},
   "outputs": [
    {
     "name": "stdout",
     "output_type": "stream",
     "text": [
      "{1, 3, 5}\n"
     ]
    },
    {
     "data": {
      "text/plain": [
       "{2, 4}"
      ]
     },
     "execution_count": 55,
     "metadata": {},
     "output_type": "execute_result"
    }
   ],
   "source": [
    "li = {1, 2, 3, 4, 5}\n",
    "li1 = {2, 4}\n",
    "print(li-li1)\n",
    "li&li1"
   ]
  },
  {
   "cell_type": "markdown",
   "id": "20f63d97",
   "metadata": {},
   "source": [
    "# ScoreBoard"
   ]
  },
  {
   "cell_type": "code",
   "execution_count": 84,
   "id": "4afab650",
   "metadata": {},
   "outputs": [
    {
     "name": "stdout",
     "output_type": "stream",
     "text": [
      "44 7\n",
      "44 6\n",
      "55 6\n",
      "55 5\n",
      "66 5\n",
      "77 5\n",
      "77 4\n",
      "99 4\n",
      "99 3\n",
      "99 2\n",
      "101 2\n",
      "101 1\n",
      "[7, 6, 5, 5, 4, 2, 1]\n"
     ]
    }
   ],
   "source": [
    "a = [22, 44, 55, 66, 77, 99, 101]\n",
    "b = [33, 55, 67, 78, 89, 100]\n",
    "score = []\n",
    "b.sort(reverse = True)\n",
    "l = len(b) - 1\n",
    "i = 0\n",
    "while i < len(a) + 1 and l >= 0:\n",
    "    if a[i] < b[l]:\n",
    "        i += 1\n",
    "        score.append(l + 2)\n",
    "    else:\n",
    "        l -= 1\n",
    "    if i < len(a):\n",
    "        print(a[i], l + 2)\n",
    "if a[len(a) - 1] > b[0]:\n",
    "    score.append(1)\n",
    "print(score)"
   ]
  },
  {
   "cell_type": "code",
   "execution_count": 89,
   "id": "7ec2d3f0",
   "metadata": {},
   "outputs": [
    {
     "name": "stdout",
     "output_type": "stream",
     "text": [
      "2\n",
      "[4, 5, 1, 2, 3]\n"
     ]
    }
   ],
   "source": [
    "li = [1, 2, 3, 4, 5]\n",
    "k = int(input())\n",
    "\n",
    "for i in range(k):\n",
    "    last_element = li[len(li) - 1]\n",
    "    for j in range(len(li) - 1, 0, -1):\n",
    "        li[j] = li[j-1]\n",
    "    li[0] = last_element\n",
    "print(li)"
   ]
  },
  {
   "cell_type": "code",
   "execution_count": 92,
   "id": "7c7e405f",
   "metadata": {},
   "outputs": [
    {
     "name": "stdout",
     "output_type": "stream",
     "text": [
      "3\n",
      "[4, 5, 1, 2, 3]\n"
     ]
    }
   ],
   "source": [
    "li = [1, 2, 3, 4, 5]\n",
    "k = int(input())\n",
    "\n",
    "for i in range(k):\n",
    "    start = li[0]\n",
    "    for j in range(len(li) - 1):\n",
    "        li[j] = li[j + 1]\n",
    "    li[len(li) - 1] = start\n",
    "print(li)"
   ]
  },
  {
   "cell_type": "code",
   "execution_count": 93,
   "id": "b2ed28b9",
   "metadata": {},
   "outputs": [
    {
     "data": {
      "text/plain": [
       "[4, 16, 36]"
      ]
     },
     "execution_count": 93,
     "metadata": {},
     "output_type": "execute_result"
    }
   ],
   "source": [
    "li = [1, 2, 3, 4, 5, 6]\n",
    "\n",
    "li1 = [i**2 for i in li if i % 2 == 0]\n",
    "\n",
    "li1"
   ]
  },
  {
   "cell_type": "code",
   "execution_count": 98,
   "id": "35caac2a",
   "metadata": {},
   "outputs": [
    {
     "name": "stdout",
     "output_type": "stream",
     "text": [
      "49\n"
     ]
    }
   ],
   "source": [
    "height = [1,8,6,2,5,4,8,25,7]\n",
    "length = len(height) - 1\n",
    "start = 0\n",
    "maximum = 0\n",
    "\n",
    "while start < length:\n",
    "    if height[start] < height[length]:\n",
    "        if height[start] * (length-start) > maximum:\n",
    "            maximum = height[start] * (length - start)\n",
    "        start += 1\n",
    "    else:\n",
    "        if height[length] * (length - start) > maximum:\n",
    "            maximum = height[length] * (length - start)\n",
    "        length -= 1\n",
    "print(maximum)"
   ]
  },
  {
   "cell_type": "code",
   "execution_count": 106,
   "id": "d3383995",
   "metadata": {},
   "outputs": [
    {
     "name": "stdout",
     "output_type": "stream",
     "text": [
      "1\n",
      "2\n",
      "3\n",
      "4\n",
      "5\n"
     ]
    }
   ],
   "source": [
    "li = [1, 2, 3, 4, 5]\n",
    "it = iter(li)\n",
    "\n",
    "for i in li:\n",
    "    print(next(it))"
   ]
  },
  {
   "cell_type": "code",
   "execution_count": 108,
   "id": "48112ee6",
   "metadata": {},
   "outputs": [
    {
     "name": "stdout",
     "output_type": "stream",
     "text": [
      "1\n",
      "2\n",
      "3\n",
      "4\n",
      "5\n",
      "6\n",
      "7\n",
      "8\n",
      "9\n",
      "10\n"
     ]
    }
   ],
   "source": [
    "li = [1, 2, 3, 4, 5, 6, 7, 8, 9, 10]\n",
    "it = iter(li)\n",
    "while True:\n",
    "    try:\n",
    "        print(next(it))\n",
    "    except StopIteration:\n",
    "        break\n"
   ]
  },
  {
   "cell_type": "code",
   "execution_count": 111,
   "id": "722d5a1e",
   "metadata": {},
   "outputs": [
    {
     "name": "stdout",
     "output_type": "stream",
     "text": [
      "1 2 3 4 5 6 7 8 9 10\n"
     ]
    }
   ],
   "source": [
    "s = \" \".join(str(i) for i in li)\n",
    "print(s)"
   ]
  },
  {
   "cell_type": "code",
   "execution_count": 205,
   "id": "ca58066f",
   "metadata": {},
   "outputs": [
    {
     "data": {
      "text/plain": [
       "['Hi', 'V', 'am', 'sh', '', 'i']"
      ]
     },
     "execution_count": 205,
     "metadata": {},
     "output_type": "execute_result"
    }
   ],
   "source": [
    "import re\n",
    "\n",
    "li = \"Hi V,.am,.sh06i\"\n",
    "re.split(\"\\s|,.|[0-9]\", li)"
   ]
  },
  {
   "cell_type": "code",
   "execution_count": 171,
   "id": "9c283f86",
   "metadata": {},
   "outputs": [
    {
     "data": {
      "text/plain": [
       "'Hi Vamshi'"
      ]
     },
     "execution_count": 171,
     "metadata": {},
     "output_type": "execute_result"
    }
   ],
   "source": [
    "re.sub(\",.|[0-9]\", \"\", li)"
   ]
  },
  {
   "cell_type": "code",
   "execution_count": 206,
   "id": "8c797f47",
   "metadata": {},
   "outputs": [
    {
     "data": {
      "text/plain": [
       "''"
      ]
     },
     "execution_count": 206,
     "metadata": {},
     "output_type": "execute_result"
    }
   ],
   "source": [
    "re.sub(\"[^a-zA-Z]|\\S\", \"\", li)"
   ]
  },
  {
   "cell_type": "code",
   "execution_count": 210,
   "id": "8007061b",
   "metadata": {},
   "outputs": [
    {
     "data": {
      "text/plain": [
       "'HiVamshi'"
      ]
     },
     "execution_count": 210,
     "metadata": {},
     "output_type": "execute_result"
    }
   ],
   "source": [
    "re.sub(\"[^a-zA-Z]|\\s\", \"\", li)"
   ]
  },
  {
   "cell_type": "code",
   "execution_count": 173,
   "id": "008433fc",
   "metadata": {},
   "outputs": [
    {
     "data": {
      "text/plain": [
       "'Hi V,.am,.sh06i'"
      ]
     },
     "execution_count": 173,
     "metadata": {},
     "output_type": "execute_result"
    }
   ],
   "source": [
    "re.sub(\"[+]\", \"\", li)"
   ]
  },
  {
   "cell_type": "code",
   "execution_count": 189,
   "id": "39e457cb",
   "metadata": {},
   "outputs": [
    {
     "ename": "NameError",
     "evalue": "name 'string' is not defined",
     "output_type": "error",
     "traceback": [
      "\u001b[1;31m---------------------------------------------------------------------------\u001b[0m",
      "\u001b[1;31mNameError\u001b[0m                                 Traceback (most recent call last)",
      "Cell \u001b[1;32mIn [189], line 3\u001b[0m\n\u001b[0;32m      1\u001b[0m li2 \u001b[38;5;241m=\u001b[39m li\u001b[38;5;241m.\u001b[39msplit()\n\u001b[1;32m----> 3\u001b[0m string \u001b[38;5;241m+\u001b[39m\u001b[38;5;241m=\u001b[39m \u001b[38;5;124m\"\u001b[39m\u001b[38;5;124m \u001b[39m\u001b[38;5;124m\"\u001b[39m\u001b[38;5;241m.\u001b[39mjoin(re\u001b[38;5;241m.\u001b[39msub(\u001b[38;5;124m\"\u001b[39m\u001b[38;5;124m[^a-zA-Z]\u001b[39m\u001b[38;5;124m\"\u001b[39m, \u001b[38;5;124m\"\u001b[39m\u001b[38;5;124m\"\u001b[39m, i) \u001b[38;5;28;01mfor\u001b[39;00m i \u001b[38;5;129;01min\u001b[39;00m li2)\n\u001b[0;32m      4\u001b[0m string\n",
      "\u001b[1;31mNameError\u001b[0m: name 'string' is not defined"
     ]
    }
   ],
   "source": [
    "li2 = li.split()\n",
    "\n",
    "string += \" \".join(re.sub(\"[^a-zA-Z]\", \"\", i) for i in li2)\n",
    "string"
   ]
  },
  {
   "cell_type": "code",
   "execution_count": 204,
   "id": "c521ef1c",
   "metadata": {},
   "outputs": [
    {
     "data": {
      "text/plain": [
       "'Hi Vamshi'"
      ]
     },
     "execution_count": 204,
     "metadata": {},
     "output_type": "execute_result"
    }
   ],
   "source": [
    "lists = [\"Hii\", \"V,.amsh06i\"]\n",
    "\n",
    "x = \" \".join(re.sub(\"[^a-zA-Z]\", \"\", i) for i in li2)\n",
    "x"
   ]
  },
  {
   "cell_type": "code",
   "execution_count": 201,
   "id": "83923570",
   "metadata": {},
   "outputs": [
    {
     "data": {
      "text/plain": [
       "['Hi', 'V,.am,.sh06i']"
      ]
     },
     "execution_count": 201,
     "metadata": {},
     "output_type": "execute_result"
    }
   ],
   "source": [
    "li2"
   ]
  },
  {
   "cell_type": "code",
   "execution_count": 199,
   "id": "ac580c6a",
   "metadata": {},
   "outputs": [
    {
     "name": "stdout",
     "output_type": "stream",
     "text": [
      "Hi Vamshi\n"
     ]
    }
   ],
   "source": [
    "li2 = li.split()\n",
    "\n",
    "strings = \"\"\n",
    "strings += \" \".join(re.sub(\"[^a-zA-Z]\", \"\", i) for i in li2)\n",
    "print(strings)"
   ]
  },
  {
   "cell_type": "code",
   "execution_count": 211,
   "id": "2d71a5b6",
   "metadata": {},
   "outputs": [
    {
     "data": {
      "text/plain": [
       "{'name': 'Vamshi Krishna', 'age': 22}"
      ]
     },
     "execution_count": 211,
     "metadata": {},
     "output_type": "execute_result"
    }
   ],
   "source": [
    "dic = dict()\n",
    "dic[\"name\"] = \"Vamshi Krishna\"\n",
    "dic[\"age\"] = 22\n",
    "dic"
   ]
  },
  {
   "cell_type": "code",
   "execution_count": 213,
   "id": "4ddc273b",
   "metadata": {},
   "outputs": [],
   "source": [
    "import collections\n",
    "\n",
    "d = collections.OrderedDict()"
   ]
  },
  {
   "cell_type": "code",
   "execution_count": 218,
   "id": "933fca99",
   "metadata": {},
   "outputs": [
    {
     "name": "stdout",
     "output_type": "stream",
     "text": [
      "A 10\n",
      "C 12\n",
      "B 11\n",
      "D 13\n"
     ]
    }
   ],
   "source": [
    "import collections    \n",
    "d1=collections.OrderedDict()\n",
    "d1['A']=10    \n",
    "d1['C']=12    \n",
    "d1['B']=11    \n",
    "d1['D']=13    \n",
    "\n",
    "for k,v in d1.items():    \n",
    "    print (k,v)    "
   ]
  },
  {
   "cell_type": "code",
   "execution_count": 219,
   "id": "b50f6bc2",
   "metadata": {},
   "outputs": [
    {
     "name": "stdout",
     "output_type": "stream",
     "text": [
      "A 10\n",
      "C 12\n",
      "B 11\n",
      "D 13\n"
     ]
    }
   ],
   "source": [
    "import collections    \n",
    "d1=dict()\n",
    "d1['A']=10    \n",
    "d1['C']=12    \n",
    "d1['B']=11    \n",
    "d1['D']=13    \n",
    "\n",
    "for k,v in d1.items():    \n",
    "    print (k,v)    "
   ]
  },
  {
   "cell_type": "code",
   "execution_count": 222,
   "id": "bc437990",
   "metadata": {},
   "outputs": [
    {
     "name": "stdout",
     "output_type": "stream",
     "text": [
      "Output Dictionary using dictionary comprehensions: {1: 1, 3: 27, 5: 125, 7: 343}\n"
     ]
    }
   ],
   "source": [
    "input_list = [1,2,3,4,5,6,7]\n",
    "  \n",
    "dict_using_comp = {var:var ** 3 for var in input_list if var % 2 != 0}\n",
    "  \n",
    "print(\"Output Dictionary using dictionary comprehensions:\",\n",
    "                                           dict_using_comp)"
   ]
  },
  {
   "cell_type": "code",
   "execution_count": 226,
   "id": "df2fea6d",
   "metadata": {},
   "outputs": [
    {
     "data": {
      "text/plain": [
       "{2: 4, 4: 16, 6: 36, 8: 64}"
      ]
     },
     "execution_count": 226,
     "metadata": {},
     "output_type": "execute_result"
    }
   ],
   "source": [
    "inli = [1, 2, 3, 4, 5, 6, 7, 8]\n",
    "\n",
    "di = {i: i**2 for i in inli if i % 2 == 0}\n",
    "di"
   ]
  },
  {
   "cell_type": "markdown",
   "id": "c6ed0433",
   "metadata": {},
   "source": [
    "# Collections\n",
    "## Counter"
   ]
  },
  {
   "cell_type": "code",
   "execution_count": 236,
   "id": "0932107c",
   "metadata": {},
   "outputs": [
    {
     "name": "stdout",
     "output_type": "stream",
     "text": [
      "Counter({'c': 7, 'b': 6, 'd': 5, 'a': 3})\n"
     ]
    }
   ],
   "source": [
    "from collections import Counter\n",
    "\n",
    "s = \"aaabbbbbbcccccccddddd\"\n",
    "c = Counter(s)\n",
    "print(c)"
   ]
  },
  {
   "cell_type": "code",
   "execution_count": 237,
   "id": "e43ff415",
   "metadata": {},
   "outputs": [
    {
     "name": "stdout",
     "output_type": "stream",
     "text": [
      "a 3\n",
      "b 6\n",
      "c 7\n",
      "d 5\n"
     ]
    }
   ],
   "source": [
    "for a, b in c.items():\n",
    "    print(a, b)"
   ]
  },
  {
   "cell_type": "markdown",
   "id": "ee84c52d",
   "metadata": {},
   "source": [
    "return two Most Common elements"
   ]
  },
  {
   "cell_type": "code",
   "execution_count": 239,
   "id": "a6348f1f",
   "metadata": {},
   "outputs": [
    {
     "name": "stdout",
     "output_type": "stream",
     "text": [
      "[('c', 7), ('b', 6)]\n"
     ]
    }
   ],
   "source": [
    "print(c.most_common(2))"
   ]
  },
  {
   "cell_type": "code",
   "execution_count": 245,
   "id": "8bbaee3b",
   "metadata": {},
   "outputs": [
    {
     "name": "stdout",
     "output_type": "stream",
     "text": [
      "('c', 7)\n",
      "c\n"
     ]
    }
   ],
   "source": [
    "# Get a tuple of most common element\n",
    "print(c.most_common(1)[0])\n",
    "\n",
    "# Get only the most common element\n",
    "print(c.most_common(1)[0][0])"
   ]
  },
  {
   "cell_type": "code",
   "execution_count": 248,
   "id": "fe5ac24f",
   "metadata": {},
   "outputs": [
    {
     "name": "stdout",
     "output_type": "stream",
     "text": [
      "c 7\n"
     ]
    }
   ],
   "source": [
    "a, b = c.most_common(1)[0]\n",
    "print(a, b)"
   ]
  },
  {
   "cell_type": "markdown",
   "id": "163b96c2",
   "metadata": {},
   "source": [
    "## Named Tuple"
   ]
  },
  {
   "cell_type": "code",
   "execution_count": 253,
   "id": "5da25441",
   "metadata": {},
   "outputs": [
    {
     "name": "stdout",
     "output_type": "stream",
     "text": [
      "point(x=2, y=34)\n"
     ]
    }
   ],
   "source": [
    "from collections import namedtuple\n",
    "\n",
    "p = namedtuple(\"point\", \"x, y\")\n",
    "\n",
    "pt = p(2, 34)\n",
    "\n",
    "print(pt)"
   ]
  },
  {
   "cell_type": "code",
   "execution_count": 254,
   "id": "54839447",
   "metadata": {},
   "outputs": [
    {
     "name": "stdout",
     "output_type": "stream",
     "text": [
      "2 34\n"
     ]
    }
   ],
   "source": [
    "print(pt.x, pt.y)"
   ]
  },
  {
   "cell_type": "markdown",
   "id": "ff47cccf",
   "metadata": {},
   "source": [
    "## OrderedDict()\n",
    "- From Python 3.7 and above the OrderedDict() is same as dict(), It remembers the order"
   ]
  },
  {
   "cell_type": "code",
   "execution_count": 267,
   "id": "3ca2fed9",
   "metadata": {},
   "outputs": [
    {
     "name": "stdout",
     "output_type": "stream",
     "text": [
      "odict_items([('name', 'Vamshi'), ('age', 22), ('company', 'TCS')])\n"
     ]
    }
   ],
   "source": [
    "from collections import OrderedDict\n",
    "\n",
    "a = OrderedDict()\n",
    "a[\"name\"] = \"Vamshi\"\n",
    "a[\"age\"] = 22\n",
    "a[\"company\"] = \"TCS\"\n",
    "print(a.items())"
   ]
  },
  {
   "cell_type": "code",
   "execution_count": 268,
   "id": "d5148859",
   "metadata": {},
   "outputs": [
    {
     "name": "stdout",
     "output_type": "stream",
     "text": [
      "name Vamshi\n",
      "age 22\n",
      "company TCS\n"
     ]
    }
   ],
   "source": [
    "for i, j in a.items():\n",
    "    print(i, j)"
   ]
  },
  {
   "cell_type": "markdown",
   "id": "07b3a1d2",
   "metadata": {},
   "source": [
    "The above is same as"
   ]
  },
  {
   "cell_type": "code",
   "execution_count": 271,
   "id": "22fe9466",
   "metadata": {},
   "outputs": [
    {
     "name": "stdout",
     "output_type": "stream",
     "text": [
      "dict_items([('name', 'Vamshi'), ('age', 22), ('company', 'TCS')])\n"
     ]
    }
   ],
   "source": [
    "\n",
    "b = dict()\n",
    "b[\"name\"] = \"Vamshi\"\n",
    "b[\"age\"] = 22\n",
    "b[\"company\"] = \"TCS\"\n",
    "print(b.items())"
   ]
  },
  {
   "cell_type": "code",
   "execution_count": 266,
   "id": "f741bd97",
   "metadata": {},
   "outputs": [
    {
     "name": "stdout",
     "output_type": "stream",
     "text": [
      "name Vamshi\n",
      "age 22\n",
      "company TCS\n"
     ]
    }
   ],
   "source": [
    "for i, j in b.items():\n",
    "    print(i, j)"
   ]
  },
  {
   "cell_type": "markdown",
   "id": "38f4c0a0",
   "metadata": {},
   "source": [
    "# defaultdict()\n",
    "- Compared to the normal dictonary it will have a default value"
   ]
  },
  {
   "cell_type": "code",
   "execution_count": 272,
   "id": "719cff61",
   "metadata": {},
   "outputs": [
    {
     "name": "stdout",
     "output_type": "stream",
     "text": [
      "1\n"
     ]
    }
   ],
   "source": [
    "from collections import defaultdict\n",
    "\n",
    "defdict = defaultdict(int)\n",
    "defdict[\"a\"] = 1\n",
    "defdict[\"b\"] = 2\n",
    "print(defdict[\"a\"])"
   ]
  },
  {
   "cell_type": "code",
   "execution_count": 274,
   "id": "68f10b4a",
   "metadata": {},
   "outputs": [
    {
     "name": "stdout",
     "output_type": "stream",
     "text": [
      "0\n"
     ]
    }
   ],
   "source": [
    "# It will return 0 if the value is not specifide\n",
    "print(defdict[\"c\"])"
   ]
  },
  {
   "cell_type": "code",
   "execution_count": 275,
   "id": "f9b434a3",
   "metadata": {},
   "outputs": [
    {
     "name": "stdout",
     "output_type": "stream",
     "text": [
      "0.0\n"
     ]
    }
   ],
   "source": [
    "from collections import defaultdict\n",
    "\n",
    "defdict = defaultdict(float)\n",
    "defdict[\"a\"] = 1\n",
    "defdict[\"b\"] = 2\n",
    "print(defdict[\"c\"])"
   ]
  },
  {
   "cell_type": "code",
   "execution_count": 280,
   "id": "ee0ac1bd",
   "metadata": {},
   "outputs": [
    {
     "name": "stdout",
     "output_type": "stream",
     "text": [
      "[]\n"
     ]
    }
   ],
   "source": [
    "from collections import defaultdict\n",
    "\n",
    "defdict = defaultdict(list)\n",
    "defdict[\"a\"] = 1\n",
    "defdict[\"b\"] = 2\n",
    "\n",
    "# It will return a empty list\n",
    "print(defdict[\"c\"])"
   ]
  },
  {
   "cell_type": "code",
   "execution_count": 282,
   "id": "15337a5e",
   "metadata": {},
   "outputs": [
    {
     "name": "stdout",
     "output_type": "stream",
     "text": [
      "[]\n"
     ]
    }
   ],
   "source": [
    "from collections import defaultdict\n",
    "\n",
    "defdict = defaultdict(list)\n",
    "defdict[\"a\"] = 1\n",
    "defdict[\"b\"] = 2\n",
    "\n",
    "# It will return a empty list\n",
    "print(defdict[\"c\"])"
   ]
  },
  {
   "cell_type": "markdown",
   "id": "663ae46e",
   "metadata": {},
   "source": [
    "## deque()"
   ]
  },
  {
   "cell_type": "code",
   "execution_count": 318,
   "id": "fa3a9968",
   "metadata": {},
   "outputs": [
    {
     "name": "stdout",
     "output_type": "stream",
     "text": [
      "deque([1, 2])\n"
     ]
    }
   ],
   "source": [
    "from collections import deque\n",
    "\n",
    "dq = deque()\n",
    "\n",
    "dq.append(1)\n",
    "dq.append(2)\n",
    "\n",
    "print(dq)"
   ]
  },
  {
   "cell_type": "code",
   "execution_count": 319,
   "id": "1bc518e1",
   "metadata": {},
   "outputs": [
    {
     "data": {
      "text/plain": [
       "deque([3, 1, 2])"
      ]
     },
     "execution_count": 319,
     "metadata": {},
     "output_type": "execute_result"
    }
   ],
   "source": [
    "dq.appendleft(3)\n",
    "dq"
   ]
  },
  {
   "cell_type": "code",
   "execution_count": 320,
   "id": "14d57291",
   "metadata": {},
   "outputs": [
    {
     "data": {
      "text/plain": [
       "deque([3, 1, 2, 6, 7])"
      ]
     },
     "execution_count": 320,
     "metadata": {},
     "output_type": "execute_result"
    }
   ],
   "source": [
    "dq.extend([6, 7])\n",
    "dq"
   ]
  },
  {
   "cell_type": "code",
   "execution_count": 321,
   "id": "1eff6f28",
   "metadata": {},
   "outputs": [
    {
     "data": {
      "text/plain": [
       "deque([5, 8, 7, 3, 1, 2, 6, 7])"
      ]
     },
     "execution_count": 321,
     "metadata": {},
     "output_type": "execute_result"
    }
   ],
   "source": [
    "dq.extendleft([7, 8, 5])\n",
    "dq"
   ]
  },
  {
   "cell_type": "code",
   "execution_count": 322,
   "id": "385edcb3",
   "metadata": {},
   "outputs": [
    {
     "data": {
      "text/plain": [
       "deque([7, 5, 8, 7, 3, 1, 2, 6])"
      ]
     },
     "execution_count": 322,
     "metadata": {},
     "output_type": "execute_result"
    }
   ],
   "source": [
    "dq.rotate(1)\n",
    "dq"
   ]
  },
  {
   "cell_type": "markdown",
   "id": "556718e9",
   "metadata": {},
   "source": [
    "### Rotation with dque()"
   ]
  },
  {
   "cell_type": "code",
   "execution_count": 328,
   "id": "3babfb50",
   "metadata": {},
   "outputs": [
    {
     "name": "stdout",
     "output_type": "stream",
     "text": [
      "[5, 1, 2, 3, 4]\n"
     ]
    }
   ],
   "source": [
    "li = [1, 2, 3, 4, 5]\n",
    "dq1 = deque(li)\n",
    "dq1.rotate(1)\n",
    "print(list(dq1))"
   ]
  },
  {
   "cell_type": "markdown",
   "id": "cba1f967",
   "metadata": {},
   "source": [
    "# Generators\n",
    " - return will return only one value but generators will return more values\n",
    " - If we use yield in a unction instead of return then it is a generator"
   ]
  },
  {
   "cell_type": "code",
   "execution_count": 332,
   "id": "2670ac6d",
   "metadata": {},
   "outputs": [
    {
     "name": "stdout",
     "output_type": "stream",
     "text": [
      "1\n",
      "2\n",
      "3\n",
      "4\n",
      "5\n"
     ]
    }
   ],
   "source": [
    "def topten():\n",
    "    yield 1\n",
    "    yield 2\n",
    "    yield 3\n",
    "    yield 4\n",
    "    yield 5\n",
    "\n",
    "\n",
    "for i in topten():\n",
    "    print(i)"
   ]
  },
  {
   "cell_type": "markdown",
   "id": "0b8568aa",
   "metadata": {},
   "source": [
    "### Return top ten squares with yield"
   ]
  },
  {
   "cell_type": "code",
   "execution_count": 336,
   "id": "2bc9d89e",
   "metadata": {},
   "outputs": [
    {
     "name": "stdout",
     "output_type": "stream",
     "text": [
      "1\n",
      "4\n",
      "9\n",
      "16\n",
      "25\n",
      "36\n",
      "49\n",
      "64\n",
      "81\n",
      "100\n"
     ]
    }
   ],
   "source": [
    "def square():\n",
    "    sq = 1\n",
    "    while sq <= 10:\n",
    "        yield sq**2\n",
    "        sq += 1\n",
    "for i in square():\n",
    "    print(i)"
   ]
  },
  {
   "cell_type": "code",
   "execution_count": 338,
   "id": "f1ff3dd6",
   "metadata": {},
   "outputs": [
    {
     "name": "stdout",
     "output_type": "stream",
     "text": [
      "3\n",
      "1 2 3\n"
     ]
    },
    {
     "ename": "AttributeError",
     "evalue": "'str' object has no attribute 'spit'",
     "output_type": "error",
     "traceback": [
      "\u001b[1;31m---------------------------------------------------------------------------\u001b[0m",
      "\u001b[1;31mAttributeError\u001b[0m                            Traceback (most recent call last)",
      "Cell \u001b[1;32mIn [338], line 2\u001b[0m\n\u001b[0;32m      1\u001b[0m n \u001b[38;5;241m=\u001b[39m \u001b[38;5;28mint\u001b[39m(\u001b[38;5;28minput\u001b[39m())\n\u001b[1;32m----> 2\u001b[0m inp \u001b[38;5;241m=\u001b[39m \u001b[38;5;28mlist\u001b[39m(\u001b[38;5;28mmap\u001b[39m(\u001b[38;5;28mint\u001b[39m, \u001b[38;5;28;43minput\u001b[39;49m\u001b[43m(\u001b[49m\u001b[43m)\u001b[49m\u001b[38;5;241;43m.\u001b[39;49m\u001b[43mspit\u001b[49m()))\n\u001b[0;32m      3\u001b[0m li \u001b[38;5;241m=\u001b[39m []\n\u001b[0;32m      5\u001b[0m \u001b[38;5;28;01mfor\u001b[39;00m i \u001b[38;5;129;01min\u001b[39;00m \u001b[38;5;28mrange\u001b[39m(n):\n",
      "\u001b[1;31mAttributeError\u001b[0m: 'str' object has no attribute 'spit'"
     ]
    }
   ],
   "source": [
    "n = int(input())\n",
    "inp = list(map(int, input().spit()))\n",
    "li = []\n",
    "\n",
    "for i in range(n):\n",
    "    inp = list(map(int, input().split()))\n",
    "    li.append(inp)\n",
    "\n",
    "li"
   ]
  },
  {
   "cell_type": "code",
   "execution_count": null,
   "id": "2dd33f65",
   "metadata": {},
   "outputs": [],
   "source": []
  }
 ],
 "metadata": {
  "kernelspec": {
   "display_name": "Python 3 (ipykernel)",
   "language": "python",
   "name": "python3"
  },
  "language_info": {
   "codemirror_mode": {
    "name": "ipython",
    "version": 3
   },
   "file_extension": ".py",
   "mimetype": "text/x-python",
   "name": "python",
   "nbconvert_exporter": "python",
   "pygments_lexer": "ipython3",
   "version": "3.9.11"
  }
 },
 "nbformat": 4,
 "nbformat_minor": 5
}
