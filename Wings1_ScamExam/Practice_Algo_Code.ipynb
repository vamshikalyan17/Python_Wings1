{
 "cells": [
  {
   "cell_type": "code",
   "execution_count": 16,
   "id": "975dbf18",
   "metadata": {},
   "outputs": [
    {
     "name": "stdout",
     "output_type": "stream",
     "text": [
      "2\n",
      "3\n",
      "5\n",
      "7\n"
     ]
    }
   ],
   "source": [
    "n = 10\n",
    "for i in range(2, 10):\n",
    "    b = False\n",
    "    for j in range(2, i):\n",
    "        if i%j == 0:\n",
    "            b = True\n",
    "            break\n",
    "    if b == False:\n",
    "        print(i)"
   ]
  },
  {
   "cell_type": "code",
   "execution_count": 3,
   "id": "54d9e131",
   "metadata": {},
   "outputs": [
    {
     "data": {
      "text/plain": [
       "[1, 2, 'World', 'World', 'World']"
      ]
     },
     "execution_count": 3,
     "metadata": {},
     "output_type": "execute_result"
    }
   ],
   "source": [
    "a, b = 30, 40\n",
    "li = [1, 2, 3, 4, 5]\n",
    "li1 = [i if i < 3 else \"World\" for i in li]\n",
    "li1"
   ]
  },
  {
   "cell_type": "code",
   "execution_count": 4,
   "id": "18a0f7de",
   "metadata": {},
   "outputs": [
    {
     "data": {
      "text/plain": [
       "['VAMSHI', 'KRISHNA', 'SMART']"
      ]
     },
     "execution_count": 4,
     "metadata": {},
     "output_type": "execute_result"
    }
   ],
   "source": [
    "l = [\"vamshi\", \"krishna\", \"smart\"]\n",
    "f = [i.upper() for i in l]\n",
    "f"
   ]
  },
  {
   "cell_type": "code",
   "execution_count": 5,
   "id": "0387defc",
   "metadata": {},
   "outputs": [
    {
     "data": {
      "text/plain": [
       "[52, 44, 40, 66, 77, 22]"
      ]
     },
     "execution_count": 5,
     "metadata": {},
     "output_type": "execute_result"
    }
   ],
   "source": [
    "def nearest_num(num):\n",
    "    return abs(num-50)\n",
    "\n",
    "li = [52, 44, 22, 77, 66, 40]\n",
    "li.sort(key = nearest_num)\n",
    "li"
   ]
  },
  {
   "cell_type": "code",
   "execution_count": 9,
   "id": "6e07f47e",
   "metadata": {},
   "outputs": [
    {
     "data": {
      "text/plain": [
       "['banana', 'cherry', 'Kiwi', 'Orange']"
      ]
     },
     "execution_count": 9,
     "metadata": {},
     "output_type": "execute_result"
    }
   ],
   "source": [
    "li = [\"banana\", \"Orange\", \"Kiwi\", \"cherry\"]\n",
    "li.sort(key = str.lower)\n",
    "li"
   ]
  },
  {
   "cell_type": "code",
   "execution_count": 12,
   "id": "9a7bed7f",
   "metadata": {},
   "outputs": [
    {
     "name": "stdout",
     "output_type": "stream",
     "text": [
      "['smart', 'krishna', 'Vamshi', 'Harley']\n"
     ]
    }
   ],
   "source": [
    "thislist = [\"Vamshi\", \"krishna\", \"smart\", \"Harley\"]\n",
    "\n",
    "thislist.sort(reverse = True)\n",
    "\n",
    "print(thislist)\n"
   ]
  },
  {
   "cell_type": "code",
   "execution_count": 13,
   "id": "8e14f2ba",
   "metadata": {},
   "outputs": [
    {
     "data": {
      "text/plain": [
       "[0, 1, 2, 3, 4, 5, 6, 7, 8, 9]"
      ]
     },
     "execution_count": 13,
     "metadata": {},
     "output_type": "execute_result"
    }
   ],
   "source": [
    "l = list(range(10))\n",
    "l"
   ]
  },
  {
   "cell_type": "code",
   "execution_count": 22,
   "id": "4bcc157c",
   "metadata": {},
   "outputs": [
    {
     "name": "stdout",
     "output_type": "stream",
     "text": [
      "Vamshi 18 TCS\n"
     ]
    },
    {
     "data": {
      "text/plain": [
       "'No, He/She is not metured'"
      ]
     },
     "execution_count": 22,
     "metadata": {},
     "output_type": "execute_result"
    }
   ],
   "source": [
    "class Vamshi:\n",
    "    def __init__(self, name, age, company):\n",
    "        self.name = name\n",
    "        self.age = age\n",
    "        self.company = company\n",
    "        \n",
    "    def __str__(self):\n",
    "        return f\"{self.name} {self.age} {self.company}\"\n",
    "    \n",
    "    def metured(self):\n",
    "        if(self.age > 18):\n",
    "            return \"Yes, He/She is metured\"\n",
    "        else:\n",
    "            return \"No, He/She is not metured\"\n",
    "\n",
    "class Krishna(Vamshi):\n",
    "    def __init__(self, name, age, company):\n",
    "        Vamshi.__init__(self, name, age, company)\n",
    "\n",
    "v = Krishna(\"Vamshi\", 18, \"TCS\")\n",
    "print(v)\n",
    "v.metured()\n",
    "# print(v.name, v.age, v.company)"
   ]
  },
  {
   "cell_type": "code",
   "execution_count": 24,
   "id": "bb3fa224",
   "metadata": {},
   "outputs": [
    {
     "name": "stdout",
     "output_type": "stream",
     "text": [
      "Vamshi 18 TCS\n"
     ]
    },
    {
     "data": {
      "text/plain": [
       "'No, He/She is not metured'"
      ]
     },
     "execution_count": 24,
     "metadata": {},
     "output_type": "execute_result"
    }
   ],
   "source": [
    "class Vamshi:\n",
    "    def __init__(self, name, age, company):\n",
    "        self.name = name\n",
    "        self.age = age\n",
    "        self.company = company\n",
    "        \n",
    "    def __str__(self):\n",
    "        return f\"{self.name} {self.age} {self.company}\"\n",
    "    \n",
    "    def metured(self):\n",
    "        if(self.age > 18):\n",
    "            return \"Yes, He/She is metured\"\n",
    "        else:\n",
    "            return \"No, He/She is not metured\"\n",
    "\n",
    "class Krishna(Vamshi):\n",
    "    def __init__(self, name, age, company):\n",
    "        super().__init__(name, age, company)\n",
    "\n",
    "v = Krishna(\"Vamshi\", 18, \"TCS\")\n",
    "print(v)\n",
    "v.metured()\n",
    "# print(v.name, v.age, v.company)"
   ]
  },
  {
   "cell_type": "code",
   "execution_count": 27,
   "id": "1b291dff",
   "metadata": {},
   "outputs": [
    {
     "name": "stdout",
     "output_type": "stream",
     "text": [
      "vamshi\n",
      "<class 'list_iterator'>\n"
     ]
    }
   ],
   "source": [
    "li = [\"vamshi\", \"krishna\", \"smart\"]\n",
    "i = iter(li)\n",
    "print(next(i))\n",
    "print(type(i))"
   ]
  },
  {
   "cell_type": "code",
   "execution_count": 29,
   "id": "89dfecac",
   "metadata": {},
   "outputs": [
    {
     "name": "stdout",
     "output_type": "stream",
     "text": [
      "vamshi\n",
      "krishna\n",
      "smart\n"
     ]
    }
   ],
   "source": [
    "li = [\"vamshi\", \"krishna\", \"smart\"]\n",
    "i = iter(li)\n",
    "for j in li:\n",
    "    print(next(i))"
   ]
  },
  {
   "cell_type": "code",
   "execution_count": 38,
   "id": "4c8ff234",
   "metadata": {},
   "outputs": [
    {
     "name": "stdout",
     "output_type": "stream",
     "text": [
      "1\n",
      "2\n",
      "3\n",
      "4\n",
      "5\n",
      "6\n",
      "7\n",
      "8\n",
      "9\n",
      "10\n",
      "11\n",
      "12\n",
      "13\n",
      "14\n",
      "15\n",
      "16\n",
      "17\n",
      "18\n",
      "19\n",
      "20\n"
     ]
    }
   ],
   "source": [
    "class iterator:\n",
    "    def __iter__(self):\n",
    "        self.a = 1\n",
    "        return self\n",
    "    \n",
    "    def __next__(self):\n",
    "        if self.a <= 20:\n",
    "            x = self.a\n",
    "            self.a += 1\n",
    "            return x\n",
    "        else:\n",
    "            raise StopIteration\n",
    "\n",
    "# it = iterator()\n",
    "# itera = iter(it)\n",
    "\n",
    "it2 = iter(iterator())\n",
    "for i in it2:\n",
    "    print(i)\n",
    "\n",
    "# print(next(itera))\n",
    "# print(next(itera))\n",
    "# print(next(itera))\n",
    "# print(next(itera))\n",
    "# print(next(itera))\n",
    "# print(next(itera))\n",
    "# print(next(itera))"
   ]
  },
  {
   "cell_type": "code",
   "execution_count": 39,
   "id": "874e8f80",
   "metadata": {},
   "outputs": [
    {
     "name": "stdout",
     "output_type": "stream",
     "text": [
      "{'name': 'Vamshi', 'age': 23, 'company': 'TCS'}\n"
     ]
    }
   ],
   "source": [
    "d = {\"name\": \"Vamshi\",\n",
    "    \"age\": 23,\n",
    "    \"company\": \"TCS\"}\n",
    "print(d)"
   ]
  },
  {
   "cell_type": "code",
   "execution_count": 41,
   "id": "0c2fac41",
   "metadata": {},
   "outputs": [
    {
     "data": {
      "text/plain": [
       "{'name': 'vamshi', 'age': 23, 'company': 'TCS'}"
      ]
     },
     "execution_count": 41,
     "metadata": {},
     "output_type": "execute_result"
    }
   ],
   "source": [
    "d1 = dict(name = \"vamshi\", age = 23, company = \"TCS\")\n",
    "d1"
   ]
  },
  {
   "cell_type": "code",
   "execution_count": 42,
   "id": "d38a50fd",
   "metadata": {},
   "outputs": [
    {
     "data": {
      "text/plain": [
       "datetime.datetime(2023, 8, 18, 12, 44, 35, 531240)"
      ]
     },
     "execution_count": 42,
     "metadata": {},
     "output_type": "execute_result"
    }
   ],
   "source": [
    "import datetime\n",
    "\n",
    "v = datetime.datetime.now()\n",
    "v"
   ]
  },
  {
   "cell_type": "code",
   "execution_count": 45,
   "id": "ec0ff625",
   "metadata": {},
   "outputs": [
    {
     "name": "stdout",
     "output_type": "stream",
     "text": [
      "August\n"
     ]
    }
   ],
   "source": [
    "b = datetime.datetime(2000, 8, 16)\n",
    "print(b.strftime(\"%B\"))"
   ]
  },
  {
   "cell_type": "code",
   "execution_count": 46,
   "id": "d02ca1c3",
   "metadata": {},
   "outputs": [
    {
     "name": "stdout",
     "output_type": "stream",
     "text": [
      "8\n"
     ]
    }
   ],
   "source": [
    "print(next(itera))"
   ]
  },
  {
   "cell_type": "code",
   "execution_count": 47,
   "id": "70b5e232",
   "metadata": {},
   "outputs": [
    {
     "name": "stdout",
     "output_type": "stream",
     "text": [
      "An exception occurred name 'x' is not defined\n"
     ]
    }
   ],
   "source": [
    "#The try block will generate an error, because x is not defined:\n",
    "\n",
    "try:\n",
    "  print(x)\n",
    "except Exception as e:\n",
    "  print(\"An exception occurred\", e)\n"
   ]
  },
  {
   "cell_type": "code",
   "execution_count": 21,
   "id": "7fc0c53d",
   "metadata": {},
   "outputs": [
    {
     "name": "stdout",
     "output_type": "stream",
     "text": [
      "6 % 4 and 4 % 4\n",
      "False\n",
      "6 % 3 and 4 % 3\n",
      "False\n",
      "6 % 2 and 4 % 2\n",
      "True\n",
      "AB\n",
      "AB\n"
     ]
    }
   ],
   "source": [
    "str1 = \"ABABAB\"\n",
    "str2 = \"ABAB\"\n",
    "b = False\n",
    "m = min(len(str1), len(str2))\n",
    "for i in range(m, 1, -1):\n",
    "    print(len(str1), \"%\",i, \"and\", len(str2), \"%\", i)\n",
    "    print(len(str1)%i == 0 and len(str2)%i == 0)\n",
    "    if len(str1)%i == 0 and len(str2)%i == 0:\n",
    "        print(str2[: i])\n",
    "        b = True\n",
    "    if b:\n",
    "        print(str2[: i])"
   ]
  },
  {
   "cell_type": "code",
   "execution_count": 27,
   "id": "902f8c4b",
   "metadata": {},
   "outputs": [
    {
     "name": "stdout",
     "output_type": "stream",
     "text": [
      "CODE\n"
     ]
    }
   ],
   "source": [
    "str1 = \"LEET\"\n",
    "str2 = \"CODE\"\n",
    "b = False\n",
    "m = min(len(str1), len(str2))\n",
    "for i in range(m, 1, -1):\n",
    "    if len(str1)%i == 0 and len(str2)%i == 0:\n",
    "        b = True\n",
    "        break\n",
    "if b:\n",
    "    print(str2[: i])\n",
    "else:\n",
    "    print(\"\")"
   ]
  },
  {
   "cell_type": "code",
   "execution_count": 59,
   "id": "fbd107ec",
   "metadata": {},
   "outputs": [
    {
     "name": "stdout",
     "output_type": "stream",
     "text": [
      "2\n",
      "AB\n"
     ]
    }
   ],
   "source": [
    "str1 = \"ABABABC\"\n",
    "str2 = \"ABAB\"\n",
    "c = True\n",
    "print(4//2)\n",
    "j = 0\n",
    "s = str1[:2]\n",
    "print(s)\n",
    "for i in range(2, len(str1) + 1, 4//2):\n",
    "    if s != str1[j:i]:\n",
    "        c = False\n",
    "#         print(str1[j:i])\n",
    "if c:\n",
    "    print(s)"
   ]
  },
  {
   "cell_type": "code",
   "execution_count": 58,
   "id": "08fb3fa7",
   "metadata": {},
   "outputs": [
    {
     "data": {
      "text/plain": [
       "4"
      ]
     },
     "execution_count": 58,
     "metadata": {},
     "output_type": "execute_result"
    }
   ],
   "source": [
    "from math import gcd\n",
    "\n",
    "gcd(4, 4)"
   ]
  },
  {
   "cell_type": "code",
   "execution_count": 63,
   "id": "09af853a",
   "metadata": {},
   "outputs": [
    {
     "name": "stdout",
     "output_type": "stream",
     "text": [
      "AB\n"
     ]
    }
   ],
   "source": [
    "from math import gcd\n",
    "\n",
    "str1 = \"ABABAB\"\n",
    "str2 = \"ABAB\"\n",
    "\n",
    "if str1 + str2 != str2 + str1:\n",
    "    print(\"\")\n",
    "else:\n",
    "    print(str2[: gcd(len(str1), len(str2))])\n"
   ]
  },
  {
   "cell_type": "code",
   "execution_count": 66,
   "id": "57533522",
   "metadata": {},
   "outputs": [
    {
     "name": "stdout",
     "output_type": "stream",
     "text": [
      "[True, True, True, False, True]\n"
     ]
    }
   ],
   "source": [
    "candies = [2,3,5,1,3]\n",
    "extraCandies = 3\n",
    "mx = max(candies)\n",
    "li = []\n",
    "\n",
    "for i in candies:\n",
    "    if i + extraCandies >= mx:\n",
    "        li.append(True)\n",
    "    else:\n",
    "        li.append(False)\n",
    "print(li)"
   ]
  },
  {
   "cell_type": "code",
   "execution_count": 89,
   "id": "2a770882",
   "metadata": {},
   "outputs": [
    {
     "data": {
      "text/plain": [
       "[True, True, True, False, True]"
      ]
     },
     "execution_count": 89,
     "metadata": {},
     "output_type": "execute_result"
    }
   ],
   "source": [
    "candies = [2,3,5,1,3]\n",
    "extraCandies = 3\n",
    "l = [True if i + extraCandies >= mx else False for i in candies]\n",
    "l"
   ]
  },
  {
   "cell_type": "code",
   "execution_count": 90,
   "id": "af96092b",
   "metadata": {},
   "outputs": [
    {
     "name": "stdout",
     "output_type": "stream",
     "text": [
      "False\n"
     ]
    }
   ],
   "source": [
    "flowerbed = [1,0,0,0,1]\n",
    "n = 2\n",
    "f =  True\n",
    "for i in range(len(flowerbed)):\n",
    "    if flowerbed[i] == 0 and (i == 0 or flowerbed[i-1] == 0) and (i == len(flowerbed) - 1 or flowerbed[i + 1] == 0) :\n",
    "        flowerbed[i] = 1\n",
    "        n -=1\n",
    "        if n == 0:\n",
    "            f = False\n",
    "            break\n",
    "if f == False:\n",
    "    print(True)\n",
    "else:\n",
    "    print(False)"
   ]
  },
  {
   "cell_type": "code",
   "execution_count": 108,
   "id": "acb77110",
   "metadata": {},
   "outputs": [
    {
     "data": {
      "text/plain": [
       "'hoellE'"
      ]
     },
     "execution_count": 108,
     "metadata": {},
     "output_type": "execute_result"
    }
   ],
   "source": [
    "s = \"hEello\"\n",
    "v = \"aeiou\"\n",
    "sample = []\n",
    "st = \"\"\n",
    "for i in s:\n",
    "    if i.lower() in v:\n",
    "        sample.append(i)\n",
    "sample.reverse()\n",
    "j = 0\n",
    "for i in range(len(s)):\n",
    "    s1 = s[i]\n",
    "    if s[i].lower() in v:\n",
    "        s1 = sample[j]\n",
    "        j += 1\n",
    "    st += s1\n",
    "st"
   ]
  },
  {
   "cell_type": "code",
   "execution_count": 113,
   "id": "b2865b14",
   "metadata": {},
   "outputs": [
    {
     "data": {
      "text/plain": [
       "'blue is sky the'"
      ]
     },
     "execution_count": 113,
     "metadata": {},
     "output_type": "execute_result"
    }
   ],
   "source": [
    "s = \"the sky is blue\"\n",
    "li = s.split()\n",
    "li.reverse()\n",
    "string = \" \".join(li)\n",
    "string"
   ]
  },
  {
   "cell_type": "code",
   "execution_count": 120,
   "id": "9680dec6",
   "metadata": {},
   "outputs": [
    {
     "data": {
      "text/plain": [
       "'blue_is_sky_the'"
      ]
     },
     "execution_count": 120,
     "metadata": {},
     "output_type": "execute_result"
    }
   ],
   "source": [
    "import re\n",
    "\n",
    "r = re.sub(\" \", \"_\", string)\n",
    "r"
   ]
  },
  {
   "cell_type": "code",
   "execution_count": 127,
   "id": "a480f087",
   "metadata": {},
   "outputs": [
    {
     "data": {
      "text/plain": [
       "['The', 'sky', 'is', 'blue']"
      ]
     },
     "execution_count": 127,
     "metadata": {},
     "output_type": "execute_result"
    }
   ],
   "source": [
    "string = \"The sky@is^blue\"\n",
    "r = re.split(\"\\s|@|\\^\", string)\n",
    "r"
   ]
  },
  {
   "cell_type": "code",
   "execution_count": 133,
   "id": "157fb3ca",
   "metadata": {},
   "outputs": [
    {
     "data": {
      "text/plain": [
       "[0, 0, 9, 0, 0]"
      ]
     },
     "execution_count": 133,
     "metadata": {},
     "output_type": "execute_result"
    }
   ],
   "source": [
    "nums = [-1,1,0,-3,3]\n",
    "li = []\n",
    "\n",
    "for i in nums:\n",
    "    m = 1\n",
    "    for j in nums:\n",
    "        if i != j:\n",
    "            m *= j\n",
    "    li.append(m)\n",
    "li"
   ]
  },
  {
   "cell_type": "code",
   "execution_count": 147,
   "id": "97f32de2",
   "metadata": {},
   "outputs": [
    {
     "name": "stdout",
     "output_type": "stream",
     "text": [
      "9\n",
      "[-9, 9, -3, 3]\n"
     ]
    }
   ],
   "source": [
    "import numpy\n",
    "nums = [-1,1,0,-3,3]\n",
    "li = []\n",
    "m = 1\n",
    "for i in nums:\n",
    "    if i != 0:\n",
    "        m *= i\n",
    "print(m)\n",
    "\n",
    "for i in nums:\n",
    "    if i != 0:\n",
    "        l = m//i\n",
    "        li.append(l)\n",
    "print(li)"
   ]
  },
  {
   "cell_type": "code",
   "execution_count": 1,
   "id": "fc98e64f",
   "metadata": {},
   "outputs": [
    {
     "name": "stdout",
     "output_type": "stream",
     "text": [
      "[1, 2, 6, 24]\n",
      "[1, 2, 6, 6]\n",
      "4\n",
      "[1, 2, 8, 6]\n",
      "op[i] 8\n",
      "12 2\n",
      "[1, 12, 8, 6]\n",
      "op[i] 12\n",
      "24 1\n",
      "start\n"
     ]
    },
    {
     "data": {
      "text/plain": [
       "[24, 12, 8, 6]"
      ]
     },
     "execution_count": 1,
     "metadata": {},
     "output_type": "execute_result"
    }
   ],
   "source": [
    "nums = [1,2,3,4]\n",
    "# nums = [-1,1,0,-3,3]\n",
    "op = []\n",
    "p = nums[0]\n",
    "op.append(p)\n",
    "\n",
    "for i in range(1, len(nums)):\n",
    "    p *= nums[i]\n",
    "    op.append(p)\n",
    "print(op)\n",
    "m = 1\n",
    "for i in range(len(op)-1, -1, -1):\n",
    "    if i == len(op) - 1:\n",
    "        op[i] = op[len(op) - 2]\n",
    "        m *= nums[i]\n",
    "        print(op)\n",
    "        print(m)\n",
    "    elif i == 0:\n",
    "        op[i] = m\n",
    "        print(\"start\")\n",
    "    else:\n",
    "        op[i] = op[i-1] * m\n",
    "        print(op)\n",
    "        print(\"op[i]\", op[i])\n",
    "        m *= nums[i]\n",
    "        print(m, nums[i - 1])\n",
    "op"
   ]
  },
  {
   "cell_type": "code",
   "execution_count": 175,
   "id": "3b38a221",
   "metadata": {},
   "outputs": [
    {
     "data": {
      "text/plain": [
       "[0, 0, 9, 0, 0]"
      ]
     },
     "execution_count": 175,
     "metadata": {},
     "output_type": "execute_result"
    }
   ],
   "source": [
    "nums = [-1,1,0,-3,3]\n",
    "op = []\n",
    "p = nums[0]\n",
    "op.append(p)\n",
    "\n",
    "for i in range(1, len(nums)):\n",
    "    p *= nums[i]\n",
    "    op.append(p)\n",
    "\n",
    "m = 1\n",
    "for i in range(len(op)-1, -1, -1):\n",
    "    if i == len(op) - 1:\n",
    "        op[i] = op[len(op) - 2]\n",
    "        m *= nums[i]\n",
    "    elif i == 0:\n",
    "        op[i] = m\n",
    "    else:\n",
    "        op[i] = op[i-1] * m\n",
    "        m *= nums[i]\n",
    "\n",
    "op"
   ]
  },
  {
   "cell_type": "code",
   "execution_count": 178,
   "id": "085191f7",
   "metadata": {},
   "outputs": [
    {
     "name": "stdout",
     "output_type": "stream",
     "text": [
      "inf\n"
     ]
    }
   ],
   "source": [
    "nf = float('inf')\n",
    "print(nf)"
   ]
  },
  {
   "cell_type": "code",
   "execution_count": 3,
   "id": "621430d4",
   "metadata": {},
   "outputs": [
    {
     "name": "stdout",
     "output_type": "stream",
     "text": [
      "num_i 5 5\n",
      "num_i 3 3\n",
      "num_j 5 5\n",
      "num_j 4 4\n"
     ]
    },
    {
     "data": {
      "text/plain": [
       "True"
      ]
     },
     "execution_count": 3,
     "metadata": {},
     "output_type": "execute_result"
    }
   ],
   "source": [
    "def increasingTriplet(nums):\n",
    "    num_i = num_j = float('inf')\n",
    "    for i in nums:\n",
    "        if i <= num_i:\n",
    "            num_i = i\n",
    "            print(\"num_i\", num_i, i)\n",
    "        elif i <= num_j:\n",
    "            num_j = i\n",
    "            print(\"num_j\", num_j, i)\n",
    "        else:\n",
    "            return True\n",
    "    return False\n",
    "nums = [5, 3, 5, 4, 6, 6, 7]\n",
    "increasingTriplet(nums)"
   ]
  },
  {
   "cell_type": "code",
   "execution_count": 204,
   "id": "fead0915",
   "metadata": {},
   "outputs": [
    {
     "name": "stdout",
     "output_type": "stream",
     "text": [
      "False\n"
     ]
    }
   ],
   "source": [
    "print(float(\"inf\") < -1000)"
   ]
  },
  {
   "cell_type": "code",
   "execution_count": 212,
   "id": "d54853c4",
   "metadata": {},
   "outputs": [
    {
     "name": "stdout",
     "output_type": "stream",
     "text": [
      "num_i 3 3\n",
      "num_j 5 5\n",
      "num_j 5 5\n",
      "num_k 6 6\n"
     ]
    },
    {
     "data": {
      "text/plain": [
       "True"
      ]
     },
     "execution_count": 212,
     "metadata": {},
     "output_type": "execute_result"
    }
   ],
   "source": [
    "def increasingTriplet(nums):\n",
    "    num_i = num_j = num_k = float('inf')\n",
    "    for i in nums:\n",
    "        if i <= num_i:\n",
    "            num_i = i\n",
    "            print(\"num_i\", num_i, i)\n",
    "        elif i <= num_j:\n",
    "            num_j = i\n",
    "            print(\"num_j\", num_j, i)\n",
    "        elif i <= num_k:\n",
    "            num_k = i\n",
    "            print(\"num_k\", num_k, i)\n",
    "        else:\n",
    "            return True\n",
    "    return False\n",
    "nums = [3, 5, 5, 6, 7, 3]\n",
    "increasingTriplet(nums)"
   ]
  },
  {
   "cell_type": "code",
   "execution_count": 9,
   "id": "3d394578",
   "metadata": {},
   "outputs": [
    {
     "name": "stdout",
     "output_type": "stream",
     "text": [
      "['a', '3', 'b', '2', 'e', 'c', '3', 'd', '2', 'a']\n"
     ]
    },
    {
     "data": {
      "text/plain": [
       "['a', '3', 'b', '2', 'e', 'c', '3', 'd', '2', 'a', 'd', 'a']"
      ]
     },
     "execution_count": 9,
     "metadata": {},
     "output_type": "execute_result"
    }
   ],
   "source": [
    "chars = [\"a\",\"a\", \"a\",\"b\",\"b\", \"e\",\"c\",\"c\",\"c\", \"d\", \"d\", \"a\"]\n",
    "li = []\n",
    "li.append(chars[0])\n",
    "\n",
    "for i in range(len(chars) - 1):\n",
    "    if chars[i] != chars[i + 1]:\n",
    "        li.append(chars[i + 1])\n",
    "j = 0\n",
    "li2 = []\n",
    "i = 0\n",
    "c = 0\n",
    "while i < len(chars):\n",
    "    if li[j] == chars[i]:\n",
    "        c += 1\n",
    "        i += 1\n",
    "        \n",
    "        if i == len(chars) and c == 1:\n",
    "            li2.append(li[j])\n",
    "            \n",
    "        elif i == len(chars):\n",
    "            li2.append(li[j])\n",
    "            li2.append(str(c))\n",
    "\n",
    "    elif c == 1:\n",
    "        li2.append(li[j])\n",
    "        c = 0\n",
    "        j += 1\n",
    "        \n",
    "    else:\n",
    "        li2.append(li[j])\n",
    "        li2.append(str(c))\n",
    "        c = 0\n",
    "        j += 1\n",
    "print(li2)\n",
    "for i in range(len(chars)):\n",
    "    if i < len(li2):\n",
    "        chars[i] = li2[i]\n",
    "chars"
   ]
  },
  {
   "cell_type": "code",
   "execution_count": 6,
   "id": "ca9f91e5",
   "metadata": {},
   "outputs": [
    {
     "data": {
      "text/plain": [
       "[1, 3, 12, 0, 0]"
      ]
     },
     "execution_count": 6,
     "metadata": {},
     "output_type": "execute_result"
    }
   ],
   "source": [
    "nums = [0,1,0,3,12] \n",
    "for i in nums:\n",
    "    if i == 0:\n",
    "        nums.remove(i)\n",
    "        nums.append(0)\n",
    "nums"
   ]
  },
  {
   "cell_type": "code",
   "execution_count": 10,
   "id": "457245cd",
   "metadata": {},
   "outputs": [
    {
     "name": "stdout",
     "output_type": "stream",
     "text": [
      "[1, 0, 0, 0, 3, 12]\n",
      "[1, 3, 0, 0, 0, 12]\n",
      "[1, 3, 12, 0, 0, 0]\n"
     ]
    },
    {
     "data": {
      "text/plain": [
       "[1, 3, 12, 0, 0, 0]"
      ]
     },
     "execution_count": 10,
     "metadata": {},
     "output_type": "execute_result"
    }
   ],
   "source": [
    "nums = [0,1,0,0,3,12] \n",
    "j = 0\n",
    "for i in range(len(nums)):\n",
    "    if nums[i] != 0:\n",
    "        nums[j], nums[i] = nums[i], nums[j]\n",
    "        print(nums)\n",
    "        j += 1\n",
    "nums"
   ]
  },
  {
   "cell_type": "code",
   "execution_count": 325,
   "id": "bbdfef3a",
   "metadata": {},
   "outputs": [
    {
     "name": "stdout",
     "output_type": "stream",
     "text": [
      "2 * 6 12\n",
      "3 * 5 15\n",
      "4 * 4 16\n",
      "5 * 3 15\n",
      "6 2 12\n",
      "17 1 17\n",
      "18 0 0\n"
     ]
    },
    {
     "data": {
      "text/plain": [
       "17"
      ]
     },
     "execution_count": 325,
     "metadata": {},
     "output_type": "execute_result"
    }
   ],
   "source": [
    "height = [2,3,4,5,18,17,6]\n",
    "start = 0\n",
    "l = len(height) - 1\n",
    "n = len(height) - 1\n",
    "m = 0\n",
    "while start <= n:\n",
    "    if height[start] < height[n]:\n",
    "        print(height[start], \"*\", l, height[start] * l)\n",
    "        if m < height[start] * l:\n",
    "            m = height[start] * l\n",
    "        start += 1\n",
    "        l -= 1\n",
    "    else:\n",
    "        print(height[n], l, height[n] * l)\n",
    "        if m < height[n] * l:\n",
    "            m = height[n] * l\n",
    "        n -= 1\n",
    "        l -= 1\n",
    "m"
   ]
  },
  {
   "cell_type": "code",
   "execution_count": 311,
   "id": "d931bb6c",
   "metadata": {},
   "outputs": [
    {
     "data": {
      "text/plain": [
       "inf"
      ]
     },
     "execution_count": 311,
     "metadata": {},
     "output_type": "execute_result"
    }
   ],
   "source": [
    "m = float(\"inf\")\n",
    "m"
   ]
  },
  {
   "cell_type": "code",
   "execution_count": 330,
   "id": "e5d7ba80",
   "metadata": {},
   "outputs": [
    {
     "data": {
      "text/plain": [
       "17"
      ]
     },
     "execution_count": 330,
     "metadata": {},
     "output_type": "execute_result"
    }
   ],
   "source": [
    "height = [2,3,4,5,18,17,6]\n",
    "s = 0\n",
    "l = len(height) - 1\n",
    "n = len(height) - 1\n",
    "m = 0\n",
    "while s <= n:\n",
    "    if height[s] < height[n]:\n",
    "        if m < height[s] * l:\n",
    "            m = height[s] * l\n",
    "        s += 1\n",
    "        l -= 1\n",
    "    else:\n",
    "        if m < height[n] * l:\n",
    "            m = height[n] * l\n",
    "        l -= 1\n",
    "        n -= 1\n",
    "m"
   ]
  },
  {
   "cell_type": "code",
   "execution_count": 343,
   "id": "d283594a",
   "metadata": {},
   "outputs": [
    {
     "name": "stdout",
     "output_type": "stream",
     "text": [
      "[1, 3, 3, 3, 4]\n"
     ]
    },
    {
     "data": {
      "text/plain": [
       "1"
      ]
     },
     "execution_count": 343,
     "metadata": {},
     "output_type": "execute_result"
    }
   ],
   "source": [
    "nums = [3,1,3,4,3]\n",
    "nums.sort()\n",
    "k = 4\n",
    "print(nums)\n",
    "i, j, c = 0, len(nums) - 1, 0\n",
    "\n",
    "while i < j:\n",
    "    sums = nums[i] + nums[j]\n",
    "    if sums == k:\n",
    "        i += 1\n",
    "        j -= 1\n",
    "        c += 1\n",
    "    elif sums < k:\n",
    "        i += 1\n",
    "    else:\n",
    "        j -= 1\n",
    "c"
   ]
  },
  {
   "cell_type": "code",
   "execution_count": 358,
   "id": "b1373556",
   "metadata": {},
   "outputs": [
    {
     "name": "stdout",
     "output_type": "stream",
     "text": [
      "[1, 12, -5, -6]\n",
      "[12, -5, -6, 50]\n",
      "12.75\n"
     ]
    }
   ],
   "source": [
    "nums = [1,12,-5,-6,50,3]\n",
    "k = 4\n",
    "mx = sums = sum(nums[:k])\n",
    "\n",
    "for i in range(len(nums) - k):\n",
    "    print(nums[i: k+i])\n",
    "    sums += nums[i+k] - nums[i]\n",
    "    if mx < sums:\n",
    "        mx = sums\n",
    "print(mx/k)"
   ]
  },
  {
   "cell_type": "code",
   "execution_count": 382,
   "id": "ff794729",
   "metadata": {},
   "outputs": [
    {
     "name": "stdout",
     "output_type": "stream",
     "text": [
      "i\n",
      "i\n",
      "i\n",
      "o\n",
      "u\n",
      "a\n",
      "o\n",
      "7\n",
      "ibpbhixfiouhdljnjfflpapptrxgcomvn\n",
      "i b 0 6\n"
     ]
    },
    {
     "data": {
      "text/plain": [
       "7"
      ]
     },
     "execution_count": 382,
     "metadata": {},
     "output_type": "execute_result"
    }
   ],
   "source": [
    "s = \"ibpbhixfiouhdljnjfflpapptrxgcomvnb\"\n",
    "k = 33\n",
    "v = \"aeiou\"\n",
    "f = s[:k]\n",
    "c = 0\n",
    "m = 0\n",
    "for i in f:\n",
    "    if i in v:\n",
    "        print(i)\n",
    "        c+= 1\n",
    "print(c)\n",
    "if m < c:\n",
    "    m = c\n",
    "for i in range(len(s) - k):\n",
    "    print(s[i:i+k])\n",
    "    if s[i] in v:\n",
    "        c -= 1\n",
    "        print(\"i\", s[i-1], i, c)\n",
    "    if s[i+k] in v:\n",
    "        c += 1\n",
    "        print(\"j\", s[i+k], i+k, c)\n",
    "    if m < c:\n",
    "        m = c\n",
    "m"
   ]
  },
  {
   "cell_type": "code",
   "execution_count": 387,
   "id": "b2c0e9ac",
   "metadata": {},
   "outputs": [
    {
     "data": {
      "text/plain": [
       "7"
      ]
     },
     "execution_count": 387,
     "metadata": {},
     "output_type": "execute_result"
    }
   ],
   "source": [
    "s = \"ibpbhixfiouhdljnjfflpapptrxgcomvnb\"\n",
    "k = 33\n",
    "v = \"aeiou\"\n",
    "c = m = 0\n",
    "for i in s[:k]:\n",
    "    if i in v:\n",
    "        c+= 1\n",
    "\n",
    "if m < c:\n",
    "    m = c\n",
    "\n",
    "for i in range(len(s) - k):\n",
    "    if s[i] in v:\n",
    "        c -= 1\n",
    "    if s[i+k] in v:\n",
    "        c += 1\n",
    "    if m < c:\n",
    "        m = c\n",
    "m"
   ]
  },
  {
   "cell_type": "code",
   "execution_count": 16,
   "id": "999b1aae",
   "metadata": {},
   "outputs": [
    {
     "name": "stdout",
     "output_type": "stream",
     "text": [
      "97\n"
     ]
    }
   ],
   "source": [
    "string = \"vamshi\"\n",
    "print(ord(string[1]))"
   ]
  },
  {
   "cell_type": "code",
   "execution_count": 19,
   "id": "b52bf4df",
   "metadata": {},
   "outputs": [
    {
     "name": "stdout",
     "output_type": "stream",
     "text": [
      "97\n",
      "98\n",
      "99\n",
      "100\n"
     ]
    }
   ],
   "source": [
    "by = b'abcd'\n",
    "\n",
    "for i in by:\n",
    "    print(i)"
   ]
  },
  {
   "cell_type": "code",
   "execution_count": 25,
   "id": "6a911ebf",
   "metadata": {},
   "outputs": [
    {
     "name": "stdout",
     "output_type": "stream",
     "text": [
      "97\n",
      "98\n",
      "99\n",
      "100\n"
     ]
    }
   ],
   "source": [
    "byarr = bytearray(\"abcd\", 'utf-8')\n",
    "for i in byarr:\n",
    "    print(i)"
   ]
  },
  {
   "cell_type": "code",
   "execution_count": 26,
   "id": "a668fc51",
   "metadata": {},
   "outputs": [
    {
     "name": "stdout",
     "output_type": "stream",
     "text": [
      "97\n",
      "98\n",
      "99\n",
      "100\n"
     ]
    }
   ],
   "source": [
    "byarr = bytearray(b\"abcd\")\n",
    "for i in byarr:\n",
    "    print(i)"
   ]
  },
  {
   "cell_type": "code",
   "execution_count": 30,
   "id": "b93afeb1",
   "metadata": {},
   "outputs": [
    {
     "data": {
      "text/plain": [
       "[[1, 2, 3, 4, 5], [6, 7, 8, 9, 0]]"
      ]
     },
     "execution_count": 30,
     "metadata": {},
     "output_type": "execute_result"
    }
   ],
   "source": [
    "li = [1, 2, 3, 4, 5]\n",
    "li2 = [6, 7, 8, 9, 0]\n",
    "li3 = [li, li2]\n",
    "type(li3)\n",
    "li3"
   ]
  },
  {
   "cell_type": "code",
   "execution_count": 33,
   "id": "00616758",
   "metadata": {},
   "outputs": [
    {
     "name": "stdout",
     "output_type": "stream",
     "text": [
      "{1, 2, 3}\n",
      "{1, 2, 3, 4, 5, 8, 9, 'hii', 'hello'}\n",
      "{'hii', 4, 5}\n"
     ]
    }
   ],
   "source": [
    "a = {1, 2, 3, 4, 'hii', 5}\n",
    "b = {4, 8, 9, 5, 'hello', 'hii'}\n",
    "print(a-b)\n",
    "print(a|b)\n",
    "print(a&b)"
   ]
  },
  {
   "cell_type": "code",
   "execution_count": 40,
   "id": "5871bff2",
   "metadata": {},
   "outputs": [
    {
     "data": {
      "text/plain": [
       "[2, 3, 4, 5, 1]"
      ]
     },
     "execution_count": 40,
     "metadata": {},
     "output_type": "execute_result"
    }
   ],
   "source": [
    "li = [1, 2, 3, 4, 5]\n",
    "x = li[0]\n",
    "for i in range(len(li)-1):\n",
    "    li[i] = li[i+1]\n",
    "li[len(li)-1] = x\n",
    "li"
   ]
  },
  {
   "cell_type": "code",
   "execution_count": 55,
   "id": "0e999628",
   "metadata": {},
   "outputs": [
    {
     "name": "stdout",
     "output_type": "stream",
     "text": [
      "1\n",
      "4\n",
      "9\n",
      "16\n",
      "25\n",
      "\n"
     ]
    }
   ],
   "source": [
    "def gen_numbers():\n",
    "    li = [1, 2, 3, 4, 5]\n",
    "    for i in li:\n",
    "        yield i**2\n",
    "x = gen_numbers()\n",
    "\n",
    "for i in range(6):\n",
    "    try:\n",
    "        print(next(x))\n",
    "    except StopIteration as s:\n",
    "        print(s)"
   ]
  },
  {
   "cell_type": "code",
   "execution_count": 59,
   "id": "4f8b1bfe",
   "metadata": {},
   "outputs": [
    {
     "name": "stdout",
     "output_type": "stream",
     "text": [
      "<class 'list'>\n",
      "krishna\n",
      "22\n",
      "Google\n",
      "vamshi\n",
      "23\n",
      "TCS\n"
     ]
    }
   ],
   "source": [
    "class Vamshi:\n",
    "    def __init__(self, name, age, company):\n",
    "        self.name = name\n",
    "        self.age = age\n",
    "        self.company = company\n",
    "class Krishna:\n",
    "    def __init__(self, li):\n",
    "        self.li = li\n",
    "    \n",
    "    def ouput(self):\n",
    "        li2 = []\n",
    "        for i in self.li:\n",
    "            li2.append(i)\n",
    "        return li2\n",
    "\n",
    "v = Vamshi(\"vamshi\", 23, \"TCS\")\n",
    "v1 = Vamshi(\"krishna\", 22, \"Google\")\n",
    "li = []\n",
    "li.append(v)\n",
    "li.append(v1)\n",
    "li.sort(key = lambda a: a.name, reverse = False)\n",
    "k = Krishna(li)\n",
    "o = k.ouput()\n",
    "print(type(o))\n",
    "\n",
    "for i in o:\n",
    "    print(i.name)\n",
    "    print(i.age)\n",
    "    print(i.company)"
   ]
  },
  {
   "cell_type": "code",
   "execution_count": null,
   "id": "75f82123",
   "metadata": {},
   "outputs": [],
   "source": []
  }
 ],
 "metadata": {
  "kernelspec": {
   "display_name": "Python 3 (ipykernel)",
   "language": "python",
   "name": "python3"
  },
  "language_info": {
   "codemirror_mode": {
    "name": "ipython",
    "version": 3
   },
   "file_extension": ".py",
   "mimetype": "text/x-python",
   "name": "python",
   "nbconvert_exporter": "python",
   "pygments_lexer": "ipython3",
   "version": "3.9.11"
  }
 },
 "nbformat": 4,
 "nbformat_minor": 5
}
