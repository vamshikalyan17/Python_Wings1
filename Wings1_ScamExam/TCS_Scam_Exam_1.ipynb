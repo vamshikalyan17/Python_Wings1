{
 "cells": [
  {
   "cell_type": "code",
   "execution_count": 2,
   "id": "0d73c717",
   "metadata": {},
   "outputs": [
    {
     "name": "stdout",
     "output_type": "stream",
     "text": [
      "Hello World\n"
     ]
    }
   ],
   "source": [
    "print(\"Hello World\")"
   ]
  },
  {
   "cell_type": "code",
   "execution_count": 3,
   "id": "d6942990",
   "metadata": {},
   "outputs": [
    {
     "name": "stdout",
     "output_type": "stream",
     "text": [
      "1 2 3\n"
     ]
    }
   ],
   "source": [
    "li = [1, 2, 3]\n",
    "a, b, c = li\n",
    "print(a, b, c)"
   ]
  },
  {
   "cell_type": "code",
   "execution_count": 4,
   "id": "6e3f4861",
   "metadata": {},
   "outputs": [
    {
     "data": {
      "text/plain": [
       "'strip2 lkjdfl'"
      ]
     },
     "execution_count": 4,
     "metadata": {},
     "output_type": "execute_result"
    }
   ],
   "source": [
    "a = \"strip2 lkjdfl2\"\n",
    "b = a.strip(\"2\")\n",
    "b"
   ]
  },
  {
   "cell_type": "code",
   "execution_count": 5,
   "id": "69cf4723",
   "metadata": {},
   "outputs": [
    {
     "name": "stdout",
     "output_type": "stream",
     "text": [
      "Brand : Ford , Model Mustang\n",
      "Move...\n",
      "Brand : David's Boat , Model Titanic\n",
      "Sail...\n",
      "Brand : Deccand , Model Air line\n",
      "Fly...\n"
     ]
    }
   ],
   "source": [
    "class Vehical:\n",
    "    def __init__(self, brand, model):\n",
    "        self.brand = brand\n",
    "        self.model = model\n",
    "    \n",
    "    def move(self):\n",
    "        print(\"Move...\")\n",
    "\n",
    "class Car(Vehical):\n",
    "    def __init__(self, brand, model):\n",
    "        super().__init__(brand, model)\n",
    "    \n",
    "class Boat(Vehical):\n",
    "    def __init__(self, brand, model):\n",
    "        super().__init__(brand, model)\n",
    "    \n",
    "    def move(self):\n",
    "        print(\"Sail...\")\n",
    "\n",
    "class Plane(Vehical):\n",
    "    def __init__(self, brand, model):\n",
    "        super().__init__(brand, model)\n",
    "        \n",
    "    def move(self):\n",
    "        print(\"Fly...\")\n",
    "\n",
    "c = Car(\"Ford\", \"Mustang\")\n",
    "b = Boat(\"David's Boat\", \"Titanic\")\n",
    "p = Plane(\"Deccand\", \"Air line\")\n",
    "\n",
    "for i in (c, b, p):\n",
    "    print(\"Brand :\", i.brand, \",\", end = \" \")\n",
    "    print(\"Model\", i.model)\n",
    "    i.move()"
   ]
  },
  {
   "cell_type": "code",
   "execution_count": 6,
   "id": "9b77a5bd",
   "metadata": {},
   "outputs": [
    {
     "name": "stdout",
     "output_type": "stream",
     "text": [
      "10\n"
     ]
    }
   ],
   "source": [
    "global x\n",
    "x = 10\n",
    "def fun():\n",
    "    x = 400\n",
    "fun()\n",
    "print(x)"
   ]
  },
  {
   "cell_type": "code",
   "execution_count": 7,
   "id": "207bef7a",
   "metadata": {},
   "outputs": [
    {
     "name": "stdout",
     "output_type": "stream",
     "text": [
      "intelligence : smart intelligence\n",
      "firstName : Vamshi firstName\n",
      "lastName : Krishna lastName\n"
     ]
    }
   ],
   "source": [
    "def multi(**args):\n",
    "    for i in args:\n",
    "        print(i, \":\", args[i], i)\n",
    "\n",
    "multi(intelligence = \"smart\", firstName = \"Vamshi\", lastName = \"Krishna\")"
   ]
  },
  {
   "cell_type": "code",
   "execution_count": 8,
   "id": "834a6cc9",
   "metadata": {},
   "outputs": [
    {
     "name": "stdout",
     "output_type": "stream",
     "text": [
      "120\n"
     ]
    }
   ],
   "source": [
    "from functools import reduce\n",
    "li = [1, 2, 3, 4, 5]\n",
    "\n",
    "lam = lambda a, b : a * b\n",
    "\n",
    "r = reduce(lam, li)\n",
    "\n",
    "print(r)"
   ]
  },
  {
   "cell_type": "code",
   "execution_count": 9,
   "id": "e28b2465",
   "metadata": {},
   "outputs": [
    {
     "name": "stdout",
     "output_type": "stream",
     "text": [
      "15\n"
     ]
    }
   ],
   "source": [
    "print(sum(li))"
   ]
  },
  {
   "cell_type": "code",
   "execution_count": 10,
   "id": "90133286",
   "metadata": {},
   "outputs": [
    {
     "name": "stdout",
     "output_type": "stream",
     "text": [
      "21\n"
     ]
    }
   ],
   "source": [
    "li = [1, 2, 3, 4, 5, 6]\n",
    "\n",
    "sums = 0\n",
    "\n",
    "for i in li:\n",
    "    sums += i\n",
    "\n",
    "print(sums)"
   ]
  },
  {
   "cell_type": "code",
   "execution_count": 11,
   "id": "962ced76",
   "metadata": {},
   "outputs": [
    {
     "name": "stdout",
     "output_type": "stream",
     "text": [
      "2023-07-15\n"
     ]
    }
   ],
   "source": [
    "import datetime\n",
    "\n",
    "print(datetime.date.today())"
   ]
  },
  {
   "cell_type": "code",
   "execution_count": 12,
   "id": "a5c6b032",
   "metadata": {},
   "outputs": [
    {
     "name": "stdout",
     "output_type": "stream",
     "text": [
      "97\n",
      "98\n",
      "99\n"
     ]
    }
   ],
   "source": [
    "o = b'abc'\n",
    "for i in o:\n",
    "    print(i)"
   ]
  },
  {
   "cell_type": "code",
   "execution_count": 13,
   "id": "11f7039a",
   "metadata": {},
   "outputs": [
    {
     "name": "stdout",
     "output_type": "stream",
     "text": [
      "97\n",
      "98\n",
      "99\n"
     ]
    }
   ],
   "source": [
    "ba = bytearray(\"abc\", \"utf-8\")\n",
    "\n",
    "for i in ba:\n",
    "    print(i)"
   ]
  },
  {
   "cell_type": "code",
   "execution_count": 14,
   "id": "0eb333e5",
   "metadata": {},
   "outputs": [
    {
     "name": "stdout",
     "output_type": "stream",
     "text": [
      "9\n",
      "9\n",
      "9\n"
     ]
    }
   ],
   "source": [
    "ba1 = bytearray(b'abc')\n",
    "\n",
    "for i in ba1:\n",
    "    print(max(str(i)))"
   ]
  },
  {
   "cell_type": "code",
   "execution_count": 15,
   "id": "bd8462f3",
   "metadata": {},
   "outputs": [
    {
     "name": "stdout",
     "output_type": "stream",
     "text": [
      "acft\n",
      "97\n",
      "99\n",
      "102\n",
      "116\n"
     ]
    }
   ],
   "source": [
    "li = [\"a\", \"c\", \"f\", \"t\"]\n",
    "\n",
    "s = \"\".join(str(i) for i in li)\n",
    "\n",
    "print(s)\n",
    "\n",
    "ba2 = bytearray(s, \"utf-8\")\n",
    "\n",
    "for i in ba2:\n",
    "    print(i)"
   ]
  },
  {
   "cell_type": "code",
   "execution_count": 16,
   "id": "0239a36f",
   "metadata": {},
   "outputs": [
    {
     "name": "stdout",
     "output_type": "stream",
     "text": [
      "[2, 4, 6, 8]\n"
     ]
    }
   ],
   "source": [
    "li1 = [1, 2, 3, 4, 5, 6, 7, 8]\n",
    "\n",
    "fil = list(filter(lambda a : a % 2 == 0, li1))\n",
    "\n",
    "print(fil)"
   ]
  },
  {
   "cell_type": "code",
   "execution_count": 17,
   "id": "96a67832",
   "metadata": {},
   "outputs": [
    {
     "name": "stdout",
     "output_type": "stream",
     "text": [
      "1 2 3\n",
      "[1, 2, 3]\n"
     ]
    }
   ],
   "source": [
    "inp = list(map(int, input().split()))\n",
    "\n",
    "print(inp)"
   ]
  },
  {
   "cell_type": "code",
   "execution_count": 18,
   "id": "89e6af9d",
   "metadata": {},
   "outputs": [
    {
     "name": "stdout",
     "output_type": "stream",
     "text": [
      "vamshi krishna n\n",
      "['vamshi', 'krishna', 'n']\n",
      "['vamshi', 'krishna']\n"
     ]
    }
   ],
   "source": [
    "inp1 = list(input().split())\n",
    "fil1 = list(filter(lambda a : len(a) > 4, inp1))\n",
    "print(inp1)\n",
    "print(fil1)"
   ]
  },
  {
   "cell_type": "code",
   "execution_count": 19,
   "id": "5486e492",
   "metadata": {},
   "outputs": [
    {
     "name": "stdout",
     "output_type": "stream",
     "text": [
      "['krishna']\n"
     ]
    }
   ],
   "source": [
    "print(inp1[1 : 2])"
   ]
  },
  {
   "cell_type": "code",
   "execution_count": 20,
   "id": "5f608dfc",
   "metadata": {},
   "outputs": [
    {
     "ename": "AttributeError",
     "evalue": "'list' object has no attribute 'find'",
     "output_type": "error",
     "traceback": [
      "\u001b[1;31m---------------------------------------------------------------------------\u001b[0m",
      "\u001b[1;31mAttributeError\u001b[0m                            Traceback (most recent call last)",
      "Cell \u001b[1;32mIn [20], line 1\u001b[0m\n\u001b[1;32m----> 1\u001b[0m \u001b[38;5;28mprint\u001b[39m(\u001b[43minp1\u001b[49m\u001b[38;5;241;43m.\u001b[39;49m\u001b[43mfind\u001b[49m(\u001b[38;5;124m\"\u001b[39m\u001b[38;5;124mvamshi\u001b[39m\u001b[38;5;124m\"\u001b[39m))\n",
      "\u001b[1;31mAttributeError\u001b[0m: 'list' object has no attribute 'find'"
     ]
    }
   ],
   "source": [
    "# print(inp1.find(\"vamshi\"))"
   ]
  },
  {
   "cell_type": "code",
   "execution_count": 21,
   "id": "f677abaa",
   "metadata": {},
   "outputs": [
    {
     "data": {
      "text/plain": [
       "[1, 2, 3, 4]"
      ]
     },
     "execution_count": 21,
     "metadata": {},
     "output_type": "execute_result"
    }
   ],
   "source": [
    "l = list((1, 2, 3, 4))\n",
    "l"
   ]
  },
  {
   "cell_type": "code",
   "execution_count": 22,
   "id": "ccfe446d",
   "metadata": {},
   "outputs": [
    {
     "data": {
      "text/plain": [
       "{1, 2, 3, 4}"
      ]
     },
     "execution_count": 22,
     "metadata": {},
     "output_type": "execute_result"
    }
   ],
   "source": [
    "s = set([1, 2, 3, 4])\n",
    "s"
   ]
  },
  {
   "cell_type": "code",
   "execution_count": 23,
   "id": "740181f1",
   "metadata": {},
   "outputs": [
    {
     "data": {
      "text/plain": [
       "{1, 2, 3, 4}"
      ]
     },
     "execution_count": 23,
     "metadata": {},
     "output_type": "execute_result"
    }
   ],
   "source": [
    "s = set((1, 2, 3, 4))\n",
    "s"
   ]
  },
  {
   "cell_type": "code",
   "execution_count": 24,
   "id": "fdd5f1ff",
   "metadata": {},
   "outputs": [
    {
     "data": {
      "text/plain": [
       "(1, 2, 3, 4)"
      ]
     },
     "execution_count": 24,
     "metadata": {},
     "output_type": "execute_result"
    }
   ],
   "source": [
    "t = tuple((1, 2, 3, 4))\n",
    "t"
   ]
  },
  {
   "cell_type": "code",
   "execution_count": 25,
   "id": "e40dbc83",
   "metadata": {},
   "outputs": [
    {
     "data": {
      "text/plain": [
       "{'name': 'vamshi', 'age': 22, 'bdate': 2000}"
      ]
     },
     "execution_count": 25,
     "metadata": {},
     "output_type": "execute_result"
    }
   ],
   "source": [
    "d = {\"name\": \"vamshi\", \"age\" : 22, \"bdate\": 2000}\n",
    "d"
   ]
  },
  {
   "cell_type": "code",
   "execution_count": 26,
   "id": "854fda40",
   "metadata": {},
   "outputs": [
    {
     "data": {
      "text/plain": [
       "[1, 2, 3, 4, 5, 6]"
      ]
     },
     "execution_count": 26,
     "metadata": {},
     "output_type": "execute_result"
    }
   ],
   "source": [
    "li = [1, 2, 2, 3, 5, 4, 4, 6, 5]\n",
    "\n",
    "sor = sorted(set(li), reverse = False)\n",
    "sor"
   ]
  },
  {
   "cell_type": "code",
   "execution_count": 27,
   "id": "703cc11d",
   "metadata": {},
   "outputs": [
    {
     "name": "stdout",
     "output_type": "stream",
     "text": [
      "{1, 3, 5}\n"
     ]
    },
    {
     "data": {
      "text/plain": [
       "{2, 4}"
      ]
     },
     "execution_count": 27,
     "metadata": {},
     "output_type": "execute_result"
    }
   ],
   "source": [
    "li = {1, 2, 3, 4, 5}\n",
    "li1 = {2, 4}\n",
    "print(li-li1)\n",
    "li&li1"
   ]
  },
  {
   "cell_type": "markdown",
   "id": "827f7b2b",
   "metadata": {},
   "source": [
    "# ScoreBoard"
   ]
  },
  {
   "cell_type": "code",
   "execution_count": 28,
   "id": "885985ad",
   "metadata": {},
   "outputs": [
    {
     "name": "stdout",
     "output_type": "stream",
     "text": [
      "44 7\n",
      "44 6\n",
      "55 6\n",
      "55 5\n",
      "66 5\n",
      "77 5\n",
      "77 4\n",
      "99 4\n",
      "99 3\n",
      "99 2\n",
      "101 2\n",
      "101 1\n",
      "[7, 6, 5, 5, 4, 2, 1]\n"
     ]
    }
   ],
   "source": [
    "a = [22, 44, 55, 66, 77, 99, 101]\n",
    "b = [33, 55, 67, 78, 89, 100]\n",
    "score = []\n",
    "b.sort(reverse = True)\n",
    "l = len(b) - 1\n",
    "i = 0\n",
    "while i < len(a) + 1 and l >= 0:\n",
    "    if a[i] < b[l]:\n",
    "        i += 1\n",
    "        score.append(l + 2)\n",
    "    else:\n",
    "        l -= 1\n",
    "    if i < len(a):\n",
    "        print(a[i], l + 2)\n",
    "if a[len(a) - 1] > b[0]:\n",
    "    score.append(1)\n",
    "print(score)"
   ]
  },
  {
   "cell_type": "code",
   "execution_count": 29,
   "id": "465378c1",
   "metadata": {},
   "outputs": [
    {
     "name": "stdout",
     "output_type": "stream",
     "text": [
      "2\n",
      "[4, 5, 1, 2, 3]\n"
     ]
    }
   ],
   "source": [
    "li = [1, 2, 3, 4, 5]\n",
    "k = int(input())\n",
    "\n",
    "for i in range(k):\n",
    "    last_element = li[len(li) - 1]\n",
    "    for j in range(len(li) - 1, 0, -1):\n",
    "        li[j] = li[j-1]\n",
    "    li[0] = last_element\n",
    "print(li)"
   ]
  },
  {
   "cell_type": "code",
   "execution_count": 30,
   "id": "97fb2e4c",
   "metadata": {},
   "outputs": [
    {
     "name": "stdout",
     "output_type": "stream",
     "text": [
      "1\n",
      "[2, 3, 4, 5, 1]\n"
     ]
    }
   ],
   "source": [
    "li = [1, 2, 3, 4, 5]\n",
    "k = int(input())\n",
    "\n",
    "for i in range(k):\n",
    "    start = li[0]\n",
    "    for j in range(len(li) - 1):\n",
    "        li[j] = li[j + 1]\n",
    "    li[len(li) - 1] = start\n",
    "print(li)"
   ]
  },
  {
   "cell_type": "code",
   "execution_count": 31,
   "id": "c63abd6d",
   "metadata": {},
   "outputs": [
    {
     "data": {
      "text/plain": [
       "[4, 16, 36]"
      ]
     },
     "execution_count": 31,
     "metadata": {},
     "output_type": "execute_result"
    }
   ],
   "source": [
    "li = [1, 2, 3, 4, 5, 6]\n",
    "\n",
    "li1 = [i**2 for i in li if i % 2 == 0]\n",
    "\n",
    "li1"
   ]
  },
  {
   "cell_type": "code",
   "execution_count": 32,
   "id": "eab2b6b9",
   "metadata": {},
   "outputs": [
    {
     "name": "stdout",
     "output_type": "stream",
     "text": [
      "49\n"
     ]
    }
   ],
   "source": [
    "height = [1,8,6,2,5,4,8,25,7]\n",
    "length = len(height) - 1\n",
    "start = 0\n",
    "maximum = 0\n",
    "\n",
    "while start < length:\n",
    "    if height[start] < height[length]:\n",
    "        if height[start] * (length-start) > maximum:\n",
    "            maximum = height[start] * (length - start)\n",
    "        start += 1\n",
    "    else:\n",
    "        if height[length] * (length - start) > maximum:\n",
    "            maximum = height[length] * (length - start)\n",
    "        length -= 1\n",
    "print(maximum)"
   ]
  },
  {
   "cell_type": "code",
   "execution_count": 33,
   "id": "0e9d8d6d",
   "metadata": {},
   "outputs": [
    {
     "name": "stdout",
     "output_type": "stream",
     "text": [
      "1\n",
      "2\n",
      "3\n",
      "4\n",
      "5\n"
     ]
    }
   ],
   "source": [
    "li = [1, 2, 3, 4, 5]\n",
    "it = iter(li)\n",
    "\n",
    "for i in li:\n",
    "    print(next(it))"
   ]
  },
  {
   "cell_type": "code",
   "execution_count": 34,
   "id": "7d06ceed",
   "metadata": {},
   "outputs": [
    {
     "name": "stdout",
     "output_type": "stream",
     "text": [
      "1\n",
      "2\n",
      "3\n",
      "4\n",
      "5\n",
      "6\n",
      "7\n",
      "8\n",
      "9\n",
      "10\n"
     ]
    }
   ],
   "source": [
    "li = [1, 2, 3, 4, 5, 6, 7, 8, 9, 10]\n",
    "it = iter(li)\n",
    "while True:\n",
    "    try:\n",
    "        print(next(it))\n",
    "    except StopIteration:\n",
    "        break\n"
   ]
  },
  {
   "cell_type": "code",
   "execution_count": 35,
   "id": "92ab7f78",
   "metadata": {},
   "outputs": [
    {
     "name": "stdout",
     "output_type": "stream",
     "text": [
      "1 2 3 4 5 6 7 8 9 10\n"
     ]
    }
   ],
   "source": [
    "s = \" \".join(str(i) for i in li)\n",
    "print(s)"
   ]
  },
  {
   "cell_type": "code",
   "execution_count": 36,
   "id": "8db97432",
   "metadata": {},
   "outputs": [
    {
     "data": {
      "text/plain": [
       "['Hi', 'V', 'am', 'sh', '', 'i']"
      ]
     },
     "execution_count": 36,
     "metadata": {},
     "output_type": "execute_result"
    }
   ],
   "source": [
    "import re\n",
    "\n",
    "li = \"Hi V,.am,.sh06i\"\n",
    "re.split(\"\\s|,.|[0-9]\", li)"
   ]
  },
  {
   "cell_type": "code",
   "execution_count": 37,
   "id": "a27539b6",
   "metadata": {},
   "outputs": [
    {
     "data": {
      "text/plain": [
       "'Hi Vamshi'"
      ]
     },
     "execution_count": 37,
     "metadata": {},
     "output_type": "execute_result"
    }
   ],
   "source": [
    "re.sub(\",.|[0-9]\", \"\", li)"
   ]
  },
  {
   "cell_type": "code",
   "execution_count": 38,
   "id": "b0570ca6",
   "metadata": {},
   "outputs": [
    {
     "data": {
      "text/plain": [
       "''"
      ]
     },
     "execution_count": 38,
     "metadata": {},
     "output_type": "execute_result"
    }
   ],
   "source": [
    "re.sub(\"[^a-zA-Z]|\\S\", \"\", li)"
   ]
  },
  {
   "cell_type": "code",
   "execution_count": 39,
   "id": "29647528",
   "metadata": {},
   "outputs": [
    {
     "data": {
      "text/plain": [
       "'HiVamshi'"
      ]
     },
     "execution_count": 39,
     "metadata": {},
     "output_type": "execute_result"
    }
   ],
   "source": [
    "re.sub(\"[^a-zA-Z]|\\s\", \"\", li)"
   ]
  },
  {
   "cell_type": "code",
   "execution_count": 40,
   "id": "34736e25",
   "metadata": {},
   "outputs": [
    {
     "data": {
      "text/plain": [
       "'Hi V,.am,.sh06i'"
      ]
     },
     "execution_count": 40,
     "metadata": {},
     "output_type": "execute_result"
    }
   ],
   "source": [
    "re.sub(\"[+]\", \"\", li)"
   ]
  },
  {
   "cell_type": "code",
   "execution_count": 41,
   "id": "b2c9c432",
   "metadata": {},
   "outputs": [
    {
     "ename": "NameError",
     "evalue": "name 'string' is not defined",
     "output_type": "error",
     "traceback": [
      "\u001b[1;31m---------------------------------------------------------------------------\u001b[0m",
      "\u001b[1;31mNameError\u001b[0m                                 Traceback (most recent call last)",
      "Cell \u001b[1;32mIn [41], line 3\u001b[0m\n\u001b[0;32m      1\u001b[0m li2 \u001b[38;5;241m=\u001b[39m li\u001b[38;5;241m.\u001b[39msplit()\n\u001b[1;32m----> 3\u001b[0m string \u001b[38;5;241m+\u001b[39m\u001b[38;5;241m=\u001b[39m \u001b[38;5;124m\"\u001b[39m\u001b[38;5;124m \u001b[39m\u001b[38;5;124m\"\u001b[39m\u001b[38;5;241m.\u001b[39mjoin(re\u001b[38;5;241m.\u001b[39msub(\u001b[38;5;124m\"\u001b[39m\u001b[38;5;124m[^a-zA-Z]\u001b[39m\u001b[38;5;124m\"\u001b[39m, \u001b[38;5;124m\"\u001b[39m\u001b[38;5;124m\"\u001b[39m, i) \u001b[38;5;28;01mfor\u001b[39;00m i \u001b[38;5;129;01min\u001b[39;00m li2)\n\u001b[0;32m      4\u001b[0m string\n",
      "\u001b[1;31mNameError\u001b[0m: name 'string' is not defined"
     ]
    }
   ],
   "source": [
    "li2 = li.split()\n",
    "\n",
    "string += \" \".join(re.sub(\"[^a-zA-Z]\", \"\", i) for i in li2)\n",
    "string"
   ]
  },
  {
   "cell_type": "code",
   "execution_count": 42,
   "id": "7a99fb2b",
   "metadata": {},
   "outputs": [
    {
     "data": {
      "text/plain": [
       "'Hi Vamshi'"
      ]
     },
     "execution_count": 42,
     "metadata": {},
     "output_type": "execute_result"
    }
   ],
   "source": [
    "lists = [\"Hii\", \"V,.amsh06i\"]\n",
    "\n",
    "x = \" \".join(re.sub(\"[^a-zA-Z]\", \"\", i) for i in li2)\n",
    "x"
   ]
  },
  {
   "cell_type": "code",
   "execution_count": 43,
   "id": "17dbd4e1",
   "metadata": {},
   "outputs": [
    {
     "data": {
      "text/plain": [
       "['Hi', 'V,.am,.sh06i']"
      ]
     },
     "execution_count": 43,
     "metadata": {},
     "output_type": "execute_result"
    }
   ],
   "source": [
    "li2"
   ]
  },
  {
   "cell_type": "code",
   "execution_count": 44,
   "id": "62a48bae",
   "metadata": {},
   "outputs": [
    {
     "name": "stdout",
     "output_type": "stream",
     "text": [
      "Hi Vamshi\n"
     ]
    }
   ],
   "source": [
    "li2 = li.split()\n",
    "\n",
    "strings = \"\"\n",
    "strings += \" \".join(re.sub(\"[^a-zA-Z]\", \"\", i) for i in li2)\n",
    "print(strings)"
   ]
  },
  {
   "cell_type": "code",
   "execution_count": 45,
   "id": "864cad6a",
   "metadata": {},
   "outputs": [
    {
     "data": {
      "text/plain": [
       "{'name': 'Vamshi Krishna', 'age': 22}"
      ]
     },
     "execution_count": 45,
     "metadata": {},
     "output_type": "execute_result"
    }
   ],
   "source": [
    "dic = dict()\n",
    "dic[\"name\"] = \"Vamshi Krishna\"\n",
    "dic[\"age\"] = 22\n",
    "dic"
   ]
  },
  {
   "cell_type": "code",
   "execution_count": 46,
   "id": "f98af695",
   "metadata": {},
   "outputs": [],
   "source": [
    "import collections\n",
    "\n",
    "d = collections.OrderedDict()"
   ]
  },
  {
   "cell_type": "code",
   "execution_count": 47,
   "id": "ef095916",
   "metadata": {},
   "outputs": [
    {
     "name": "stdout",
     "output_type": "stream",
     "text": [
      "A 10\n",
      "C 12\n",
      "B 11\n",
      "D 13\n"
     ]
    }
   ],
   "source": [
    "import collections    \n",
    "d1=collections.OrderedDict()\n",
    "d1['A']=10    \n",
    "d1['C']=12    \n",
    "d1['B']=11    \n",
    "d1['D']=13    \n",
    "\n",
    "for k,v in d1.items():    \n",
    "    print (k,v)    "
   ]
  },
  {
   "cell_type": "code",
   "execution_count": 48,
   "id": "ebf5eee1",
   "metadata": {},
   "outputs": [
    {
     "name": "stdout",
     "output_type": "stream",
     "text": [
      "A 10\n",
      "C 12\n",
      "B 11\n",
      "D 13\n"
     ]
    }
   ],
   "source": [
    "import collections    \n",
    "d1=dict()\n",
    "d1['A']=10    \n",
    "d1['C']=12    \n",
    "d1['B']=11    \n",
    "d1['D']=13    \n",
    "\n",
    "for k,v in d1.items():    \n",
    "    print (k,v)    "
   ]
  },
  {
   "cell_type": "code",
   "execution_count": 49,
   "id": "aab9c64a",
   "metadata": {},
   "outputs": [
    {
     "name": "stdout",
     "output_type": "stream",
     "text": [
      "Output Dictionary using dictionary comprehensions: {1: 1, 3: 27, 5: 125, 7: 343}\n"
     ]
    }
   ],
   "source": [
    "input_list = [1,2,3,4,5,6,7]\n",
    "  \n",
    "dict_using_comp = {var:var ** 3 for var in input_list if var % 2 != 0}\n",
    "  \n",
    "print(\"Output Dictionary using dictionary comprehensions:\",\n",
    "                                           dict_using_comp)"
   ]
  },
  {
   "cell_type": "code",
   "execution_count": 50,
   "id": "3815b30c",
   "metadata": {},
   "outputs": [
    {
     "data": {
      "text/plain": [
       "{2: 4, 4: 16, 6: 36, 8: 64}"
      ]
     },
     "execution_count": 50,
     "metadata": {},
     "output_type": "execute_result"
    }
   ],
   "source": [
    "inli = [1, 2, 3, 4, 5, 6, 7, 8]\n",
    "\n",
    "di = {i: i**2 for i in inli if i % 2 == 0}\n",
    "di"
   ]
  },
  {
   "cell_type": "markdown",
   "id": "ab927b0d",
   "metadata": {},
   "source": [
    "# Collections\n",
    "## Counter"
   ]
  },
  {
   "cell_type": "code",
   "execution_count": 51,
   "id": "5c289596",
   "metadata": {},
   "outputs": [
    {
     "name": "stdout",
     "output_type": "stream",
     "text": [
      "Counter({'c': 7, 'b': 6, 'd': 5, 'a': 3})\n"
     ]
    }
   ],
   "source": [
    "from collections import Counter\n",
    "\n",
    "s = \"aaabbbbbbcccccccddddd\"\n",
    "c = Counter(s)\n",
    "print(c)"
   ]
  },
  {
   "cell_type": "code",
   "execution_count": 52,
   "id": "c725d93a",
   "metadata": {},
   "outputs": [
    {
     "name": "stdout",
     "output_type": "stream",
     "text": [
      "a 3\n",
      "b 6\n",
      "c 7\n",
      "d 5\n"
     ]
    }
   ],
   "source": [
    "for a, b in c.items():\n",
    "    print(a, b)"
   ]
  },
  {
   "cell_type": "markdown",
   "id": "0763a85c",
   "metadata": {},
   "source": [
    "return two Most Common elements"
   ]
  },
  {
   "cell_type": "code",
   "execution_count": 53,
   "id": "3397f700",
   "metadata": {},
   "outputs": [
    {
     "name": "stdout",
     "output_type": "stream",
     "text": [
      "[('c', 7), ('b', 6)]\n"
     ]
    }
   ],
   "source": [
    "print(c.most_common(2))"
   ]
  },
  {
   "cell_type": "code",
   "execution_count": 54,
   "id": "4779482a",
   "metadata": {},
   "outputs": [
    {
     "name": "stdout",
     "output_type": "stream",
     "text": [
      "('c', 7)\n",
      "c\n"
     ]
    }
   ],
   "source": [
    "# Get a tuple of most common element\n",
    "print(c.most_common(1)[0])\n",
    "\n",
    "# Get only the most common element\n",
    "print(c.most_common(1)[0][0])"
   ]
  },
  {
   "cell_type": "code",
   "execution_count": 55,
   "id": "3568dac4",
   "metadata": {},
   "outputs": [
    {
     "name": "stdout",
     "output_type": "stream",
     "text": [
      "c 7\n"
     ]
    }
   ],
   "source": [
    "a, b = c.most_common(1)[0]\n",
    "print(a, b)"
   ]
  },
  {
   "cell_type": "markdown",
   "id": "5dc2e116",
   "metadata": {},
   "source": [
    "## Named Tuple"
   ]
  },
  {
   "cell_type": "code",
   "execution_count": 56,
   "id": "ac0b4186",
   "metadata": {},
   "outputs": [
    {
     "name": "stdout",
     "output_type": "stream",
     "text": [
      "point(x=2, y=34)\n"
     ]
    }
   ],
   "source": [
    "from collections import namedtuple\n",
    "\n",
    "p = namedtuple(\"point\", \"x, y\")\n",
    "\n",
    "pt = p(2, 34)\n",
    "\n",
    "print(pt)"
   ]
  },
  {
   "cell_type": "code",
   "execution_count": 57,
   "id": "95aa55a7",
   "metadata": {},
   "outputs": [
    {
     "name": "stdout",
     "output_type": "stream",
     "text": [
      "2 34\n"
     ]
    }
   ],
   "source": [
    "print(pt.x, pt.y)"
   ]
  },
  {
   "cell_type": "markdown",
   "id": "c26f6231",
   "metadata": {},
   "source": [
    "## OrderedDict()\n",
    "- From Python 3.7 and above the OrderedDict() is same as dict(), It remembers the order"
   ]
  },
  {
   "cell_type": "code",
   "execution_count": 58,
   "id": "e47a5f69",
   "metadata": {},
   "outputs": [
    {
     "name": "stdout",
     "output_type": "stream",
     "text": [
      "odict_items([('name', 'Vamshi'), ('age', 22), ('company', 'TCS')])\n"
     ]
    }
   ],
   "source": [
    "from collections import OrderedDict\n",
    "\n",
    "a = OrderedDict()\n",
    "a[\"name\"] = \"Vamshi\"\n",
    "a[\"age\"] = 22\n",
    "a[\"company\"] = \"TCS\"\n",
    "print(a.items())"
   ]
  },
  {
   "cell_type": "code",
   "execution_count": 59,
   "id": "265ce646",
   "metadata": {},
   "outputs": [
    {
     "name": "stdout",
     "output_type": "stream",
     "text": [
      "name Vamshi\n",
      "age 22\n",
      "company TCS\n"
     ]
    }
   ],
   "source": [
    "for i, j in a.items():\n",
    "    print(i, j)"
   ]
  },
  {
   "cell_type": "markdown",
   "id": "9714000b",
   "metadata": {},
   "source": [
    "The above is same as"
   ]
  },
  {
   "cell_type": "code",
   "execution_count": 60,
   "id": "076cf4eb",
   "metadata": {},
   "outputs": [
    {
     "name": "stdout",
     "output_type": "stream",
     "text": [
      "dict_items([('name', 'Vamshi'), ('age', 22), ('company', 'TCS')])\n"
     ]
    }
   ],
   "source": [
    "\n",
    "b = dict()\n",
    "b[\"name\"] = \"Vamshi\"\n",
    "b[\"age\"] = 22\n",
    "b[\"company\"] = \"TCS\"\n",
    "print(b.items())"
   ]
  },
  {
   "cell_type": "code",
   "execution_count": 61,
   "id": "b12aec43",
   "metadata": {},
   "outputs": [
    {
     "name": "stdout",
     "output_type": "stream",
     "text": [
      "name Vamshi\n",
      "age 22\n",
      "company TCS\n"
     ]
    }
   ],
   "source": [
    "for i, j in b.items():\n",
    "    print(i, j)"
   ]
  },
  {
   "cell_type": "markdown",
   "id": "7399e12c",
   "metadata": {},
   "source": [
    "# defaultdict()\n",
    "- Compared to the normal dictonary it will have a default value"
   ]
  },
  {
   "cell_type": "code",
   "execution_count": 62,
   "id": "f4d2a751",
   "metadata": {},
   "outputs": [
    {
     "name": "stdout",
     "output_type": "stream",
     "text": [
      "1\n"
     ]
    }
   ],
   "source": [
    "from collections import defaultdict\n",
    "\n",
    "defdict = defaultdict(int)\n",
    "defdict[\"a\"] = 1\n",
    "defdict[\"b\"] = 2\n",
    "print(defdict[\"a\"])"
   ]
  },
  {
   "cell_type": "code",
   "execution_count": 63,
   "id": "b6cdf825",
   "metadata": {},
   "outputs": [
    {
     "name": "stdout",
     "output_type": "stream",
     "text": [
      "0\n"
     ]
    }
   ],
   "source": [
    "# It will return 0 if the value is not specifide\n",
    "print(defdict[\"c\"])"
   ]
  },
  {
   "cell_type": "code",
   "execution_count": 64,
   "id": "94325e69",
   "metadata": {},
   "outputs": [
    {
     "name": "stdout",
     "output_type": "stream",
     "text": [
      "0.0\n"
     ]
    }
   ],
   "source": [
    "from collections import defaultdict\n",
    "\n",
    "defdict = defaultdict(float)\n",
    "defdict[\"a\"] = 1\n",
    "defdict[\"b\"] = 2\n",
    "print(defdict[\"c\"])"
   ]
  },
  {
   "cell_type": "code",
   "execution_count": 65,
   "id": "582dc2b9",
   "metadata": {},
   "outputs": [
    {
     "name": "stdout",
     "output_type": "stream",
     "text": [
      "[]\n"
     ]
    }
   ],
   "source": [
    "from collections import defaultdict\n",
    "\n",
    "defdict = defaultdict(list)\n",
    "defdict[\"a\"] = 1\n",
    "defdict[\"b\"] = 2\n",
    "\n",
    "# It will return a empty list\n",
    "print(defdict[\"c\"])"
   ]
  },
  {
   "cell_type": "code",
   "execution_count": 66,
   "id": "88b52802",
   "metadata": {},
   "outputs": [
    {
     "name": "stdout",
     "output_type": "stream",
     "text": [
      "[]\n"
     ]
    }
   ],
   "source": [
    "from collections import defaultdict\n",
    "\n",
    "defdict = defaultdict(list)\n",
    "defdict[\"a\"] = 1\n",
    "defdict[\"b\"] = 2\n",
    "\n",
    "# It will return a empty list\n",
    "print(defdict[\"c\"])"
   ]
  },
  {
   "cell_type": "markdown",
   "id": "c8675eaa",
   "metadata": {},
   "source": [
    "## deque()"
   ]
  },
  {
   "cell_type": "code",
   "execution_count": 67,
   "id": "00310ab5",
   "metadata": {},
   "outputs": [
    {
     "name": "stdout",
     "output_type": "stream",
     "text": [
      "deque([1, 2])\n"
     ]
    }
   ],
   "source": [
    "from collections import deque\n",
    "\n",
    "dq = deque()\n",
    "\n",
    "dq.append(1)\n",
    "dq.append(2)\n",
    "\n",
    "print(dq)"
   ]
  },
  {
   "cell_type": "code",
   "execution_count": 68,
   "id": "1aeabebc",
   "metadata": {},
   "outputs": [
    {
     "data": {
      "text/plain": [
       "deque([3, 1, 2])"
      ]
     },
     "execution_count": 68,
     "metadata": {},
     "output_type": "execute_result"
    }
   ],
   "source": [
    "dq.appendleft(3)\n",
    "dq"
   ]
  },
  {
   "cell_type": "code",
   "execution_count": 69,
   "id": "ee2fdf57",
   "metadata": {},
   "outputs": [
    {
     "data": {
      "text/plain": [
       "deque([3, 1, 2, 6, 7])"
      ]
     },
     "execution_count": 69,
     "metadata": {},
     "output_type": "execute_result"
    }
   ],
   "source": [
    "dq.extend([6, 7])\n",
    "dq"
   ]
  },
  {
   "cell_type": "code",
   "execution_count": 70,
   "id": "455d4fcc",
   "metadata": {},
   "outputs": [
    {
     "data": {
      "text/plain": [
       "deque([5, 8, 7, 3, 1, 2, 6, 7])"
      ]
     },
     "execution_count": 70,
     "metadata": {},
     "output_type": "execute_result"
    }
   ],
   "source": [
    "dq.extendleft([7, 8, 5])\n",
    "dq"
   ]
  },
  {
   "cell_type": "code",
   "execution_count": 71,
   "id": "df2b5ac9",
   "metadata": {},
   "outputs": [
    {
     "data": {
      "text/plain": [
       "deque([7, 5, 8, 7, 3, 1, 2, 6])"
      ]
     },
     "execution_count": 71,
     "metadata": {},
     "output_type": "execute_result"
    }
   ],
   "source": [
    "dq.rotate(1)\n",
    "dq"
   ]
  },
  {
   "cell_type": "markdown",
   "id": "637a7fe6",
   "metadata": {},
   "source": [
    "### Rotation with dque() to the right"
   ]
  },
  {
   "cell_type": "code",
   "execution_count": 78,
   "id": "8e033cb9",
   "metadata": {},
   "outputs": [
    {
     "name": "stdout",
     "output_type": "stream",
     "text": [
      "[5, 1, 2, 3, 4]\n"
     ]
    }
   ],
   "source": [
    "li = [1, 2, 3, 4, 5]\n",
    "dq1 = deque(li)\n",
    "dq1.rotate(1)\n",
    "print(list(dq1))"
   ]
  },
  {
   "cell_type": "markdown",
   "id": "39253209",
   "metadata": {},
   "source": [
    "### Rotate dque() to the left"
   ]
  },
  {
   "cell_type": "code",
   "execution_count": 80,
   "id": "045e5acf",
   "metadata": {},
   "outputs": [
    {
     "name": "stdout",
     "output_type": "stream",
     "text": [
      "[2, 3, 4, 5, 1]\n"
     ]
    }
   ],
   "source": [
    "li = [1, 2, 3, 4, 5]\n",
    "dq2 = deque(li)\n",
    "dq2.rotate(-1)\n",
    "print(list(dq2))"
   ]
  },
  {
   "cell_type": "markdown",
   "id": "d8c3f1cb",
   "metadata": {},
   "source": [
    "# Generators\n",
    " - return will return only one value but generators will return more values\n",
    " - If we use yield in a unction instead of return then it is a generator"
   ]
  },
  {
   "cell_type": "code",
   "execution_count": 73,
   "id": "1ea6aa84",
   "metadata": {},
   "outputs": [
    {
     "name": "stdout",
     "output_type": "stream",
     "text": [
      "1\n",
      "2\n",
      "3\n",
      "4\n",
      "5\n"
     ]
    }
   ],
   "source": [
    "def topten():\n",
    "    yield 1\n",
    "    yield 2\n",
    "    yield 3\n",
    "    yield 4\n",
    "    yield 5\n",
    "\n",
    "\n",
    "for i in topten():\n",
    "    print(i)"
   ]
  },
  {
   "cell_type": "markdown",
   "id": "c3408133",
   "metadata": {},
   "source": [
    "### Return top ten squares with yield"
   ]
  },
  {
   "cell_type": "code",
   "execution_count": 74,
   "id": "a3003d5a",
   "metadata": {},
   "outputs": [
    {
     "name": "stdout",
     "output_type": "stream",
     "text": [
      "1\n",
      "4\n",
      "9\n",
      "16\n",
      "25\n",
      "36\n",
      "49\n",
      "64\n",
      "81\n",
      "100\n"
     ]
    }
   ],
   "source": [
    "def square():\n",
    "    sq = 1\n",
    "    while sq <= 10:\n",
    "        yield sq**2\n",
    "        sq += 1\n",
    "for i in square():\n",
    "    print(i)"
   ]
  },
  {
   "cell_type": "code",
   "execution_count": 75,
   "id": "0c2f58ac",
   "metadata": {},
   "outputs": [
    {
     "name": "stdout",
     "output_type": "stream",
     "text": [
      "3\n",
      "1 2 3\n",
      "4 5 6\n",
      "7 8 9\n"
     ]
    },
    {
     "data": {
      "text/plain": [
       "[[1, 2, 3], [4, 5, 6], [7, 8, 9]]"
      ]
     },
     "execution_count": 75,
     "metadata": {},
     "output_type": "execute_result"
    }
   ],
   "source": [
    "n = int(input())\n",
    "li = []\n",
    "\n",
    "for i in range(n):\n",
    "    inp = list(map(int, input().split()))\n",
    "    li.append(inp)\n",
    "\n",
    "li"
   ]
  },
  {
   "cell_type": "code",
   "execution_count": 76,
   "id": "d51e9469",
   "metadata": {},
   "outputs": [
    {
     "name": "stdout",
     "output_type": "stream",
     "text": [
      "15\n"
     ]
    }
   ],
   "source": [
    "sums = 0\n",
    "for i in range(len(li)):\n",
    "    sums += li[i][i]\n",
    "\n",
    "print(sums)"
   ]
  },
  {
   "cell_type": "code",
   "execution_count": 77,
   "id": "ec774083",
   "metadata": {},
   "outputs": [
    {
     "name": "stdout",
     "output_type": "stream",
     "text": [
      "15\n"
     ]
    }
   ],
   "source": [
    "sums = 0\n",
    "i = 0\n",
    "j = n - 1\n",
    "while i < n:\n",
    "    sums += li[j][i]\n",
    "    i += 1\n",
    "    j -= 1\n",
    "print(sums)"
   ]
  },
  {
   "cell_type": "code",
   "execution_count": 3,
   "id": "3ece8345",
   "metadata": {},
   "outputs": [
    {
     "data": {
      "text/plain": [
       "[0, 1, 2]"
      ]
     },
     "execution_count": 3,
     "metadata": {},
     "output_type": "execute_result"
    }
   ],
   "source": [
    "li = list(range(3))\n",
    "li"
   ]
  },
  {
   "cell_type": "code",
   "execution_count": 9,
   "id": "8dd9d752",
   "metadata": {},
   "outputs": [
    {
     "name": "stdout",
     "output_type": "stream",
     "text": [
      "0.746057825783954\n"
     ]
    }
   ],
   "source": [
    "import random\n",
    "\n",
    "print(random.random())"
   ]
  },
  {
   "cell_type": "code",
   "execution_count": 10,
   "id": "5d2402db",
   "metadata": {},
   "outputs": [
    {
     "name": "stdout",
     "output_type": "stream",
     "text": [
      "7\n"
     ]
    }
   ],
   "source": [
    "print(random.randint(1, 10))"
   ]
  },
  {
   "cell_type": "code",
   "execution_count": 12,
   "id": "4458b94a",
   "metadata": {},
   "outputs": [
    {
     "name": "stdout",
     "output_type": "stream",
     "text": [
      "6\n"
     ]
    }
   ],
   "source": [
    "print(random.randrange(10))"
   ]
  },
  {
   "cell_type": "markdown",
   "id": "a5443c8a",
   "metadata": {},
   "source": [
    "### I we need to add if else in list Comprehension"
   ]
  },
  {
   "cell_type": "code",
   "execution_count": 13,
   "id": "ac24933a",
   "metadata": {},
   "outputs": [
    {
     "name": "stdout",
     "output_type": "stream",
     "text": [
      "['apple', 'banana', 'none', 'none', 'mango']\n"
     ]
    }
   ],
   "source": [
    "fruits = [\"apple\", \"banana\", \"cherry\", \"kiwi\", \"mango\"]\n",
    "newlist = [x if \"a\" in x else \"none\" for x in fruits ]\n",
    "\n",
    "print(newlist)\n"
   ]
  },
  {
   "cell_type": "code",
   "execution_count": 15,
   "id": "d21612fc",
   "metadata": {},
   "outputs": [
    {
     "data": {
      "text/plain": [
       "('vamshi', 'vamshi', 'vamshi')"
      ]
     },
     "execution_count": 15,
     "metadata": {},
     "output_type": "execute_result"
    }
   ],
   "source": [
    "t = (\"vamshi\", ) * 3\n",
    "t"
   ]
  },
  {
   "cell_type": "code",
   "execution_count": null,
   "id": "02044d84",
   "metadata": {},
   "outputs": [],
   "source": []
  }
 ],
 "metadata": {
  "kernelspec": {
   "display_name": "Python 3 (ipykernel)",
   "language": "python",
   "name": "python3"
  },
  "language_info": {
   "codemirror_mode": {
    "name": "ipython",
    "version": 3
   },
   "file_extension": ".py",
   "mimetype": "text/x-python",
   "name": "python",
   "nbconvert_exporter": "python",
   "pygments_lexer": "ipython3",
   "version": "3.9.11"
  }
 },
 "nbformat": 4,
 "nbformat_minor": 5
}
