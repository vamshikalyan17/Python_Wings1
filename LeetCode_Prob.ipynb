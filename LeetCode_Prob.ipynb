{
 "cells": [
  {
   "cell_type": "code",
   "execution_count": 46,
   "id": "20b70db6",
   "metadata": {},
   "outputs": [
    {
     "name": "stdout",
     "output_type": "stream",
     "text": [
      "[True, False, False, False, True]\n"
     ]
    }
   ],
   "source": [
    "candies = [4,2,1,1,2]\n",
    "extraCandies = 1\n",
    "li = []\n",
    "if len(candies) > 0:\n",
    "    if candies[0]+extraCandies > candies[1]+extraCandies:\n",
    "        li.append(True)\n",
    "for i in range(len(candies) - 1):\n",
    "    if candies[i+1]+extraCandies > candies[i]+extraCandies:\n",
    "        li.append(True)\n",
    "    else:\n",
    "        li.append(False)\n",
    "print(li)"
   ]
  },
  {
   "cell_type": "code",
   "execution_count": 44,
   "id": "ce717a96",
   "metadata": {},
   "outputs": [
    {
     "name": "stdout",
     "output_type": "stream",
     "text": [
      "[True, False, False, False, False]\n"
     ]
    }
   ],
   "source": [
    "candies = [4,2,1,1,2]\n",
    "extraCandies = 1\n",
    "li = []\n",
    "if len(candies) > 0:\n",
    "    li.append(True)\n",
    "for i in range(len(candies) - 1):\n",
    "    if candies[i+1]+extraCandies > candies[0]+extraCandies:\n",
    "        li.append(True)\n",
    "    else:\n",
    "        li.append(False)\n",
    "print(li)"
   ]
  },
  {
   "cell_type": "code",
   "execution_count": 47,
   "id": "417fe73e",
   "metadata": {},
   "outputs": [
    {
     "name": "stdout",
     "output_type": "stream",
     "text": [
      "4\n"
     ]
    }
   ],
   "source": [
    "candies = [4,2,1,1,2]\n",
    "print(max(candies))"
   ]
  },
  {
   "cell_type": "code",
   "execution_count": 51,
   "id": "2c157ee6",
   "metadata": {},
   "outputs": [
    {
     "name": "stdout",
     "output_type": "stream",
     "text": [
      "[True, False, False, False, False]\n"
     ]
    }
   ],
   "source": [
    "candies = [4,2,1,1,2]\n",
    "extraCandies = 1\n",
    "li = []\n",
    "for i in range(len(candies)):\n",
    "    if candies[i] + extraCandies > max(candies):\n",
    "        li.append(True)\n",
    "    else:\n",
    "        li.append(False)\n",
    "print(li)"
   ]
  },
  {
   "cell_type": "code",
   "execution_count": null,
   "id": "ee18f3b0",
   "metadata": {},
   "outputs": [],
   "source": [
    "li = []\n",
    "        m = max(candies)\n",
    "        for i in candies:\n",
    "            if i + extraCandies >= m:\n",
    "                li.append(True)\n",
    "            else:\n",
    "                li.append(False)\n",
    "        return li"
   ]
  },
  {
   "cell_type": "code",
   "execution_count": 6,
   "id": "823c9db2",
   "metadata": {},
   "outputs": [
    {
     "name": "stdout",
     "output_type": "stream",
     "text": [
      "vamshikrishnakrishnakrishnakrishnakrishna\n"
     ]
    }
   ],
   "source": []
  },
  {
   "cell_type": "code",
   "execution_count": 13,
   "id": "2aaebfb2",
   "metadata": {},
   "outputs": [
    {
     "name": "stdout",
     "output_type": "stream",
     "text": [
      "vamshikrishna\n"
     ]
    }
   ],
   "source": [
    "t = \"\"\n",
    "s = \"vamshi  \"\n",
    "t = s.strip()\n",
    "s = t + \"krishna\"\n",
    "print(s)"
   ]
  },
  {
   "cell_type": "code",
   "execution_count": 18,
   "id": "eccdc92d",
   "metadata": {},
   "outputs": [
    {
     "name": "stdout",
     "output_type": "stream",
     "text": [
      "['a', ' ', 'g', 'o', 'o', 'd', ' ', 'e', 'x', 'a', 'm', 'p', 'l', 'e']\n"
     ]
    }
   ],
   "source": [
    "s = \"a good example\"\n",
    "li = []\n",
    "for i in s:\n",
    "    li.append(i)\n",
    "print(li)"
   ]
  },
  {
   "cell_type": "code",
   "execution_count": 23,
   "id": "367e56d2",
   "metadata": {},
   "outputs": [],
   "source": [
    "s = \"a good   example\"\n",
    "li = s.split(\" \")"
   ]
  },
  {
   "cell_type": "code",
   "execution_count": 24,
   "id": "97225f61",
   "metadata": {},
   "outputs": [
    {
     "data": {
      "text/plain": [
       "['a', 'good', '', '', 'example']"
      ]
     },
     "execution_count": 24,
     "metadata": {},
     "output_type": "execute_result"
    }
   ],
   "source": [
    "li"
   ]
  },
  {
   "cell_type": "code",
   "execution_count": 50,
   "id": "615166a9",
   "metadata": {},
   "outputs": [
    {
     "name": "stdout",
     "output_type": "stream",
     "text": [
      "example good a\n"
     ]
    }
   ],
   "source": [
    "s = \"a good   example    \"\n",
    "t = \"\"\n",
    "li = s.split(\" \")\n",
    "li2 = []\n",
    "for i in li:\n",
    "    if i != '':\n",
    "        li2.append(i)\n",
    "rev = li2[::-1]\n",
    "for i in range(len(rev)):\n",
    "    if i < len(rev) - 1:\n",
    "        t += rev[i] + \" \"\n",
    "    else:\n",
    "        t += rev[i]\n",
    "print(t)\n"
   ]
  },
  {
   "cell_type": "code",
   "execution_count": 71,
   "id": "cc81b1a5",
   "metadata": {},
   "outputs": [
    {
     "name": "stdout",
     "output_type": "stream",
     "text": [
      "example good a\n"
     ]
    }
   ],
   "source": [
    "s = \"a good   example    \"\n",
    "t = \"\"\n",
    "li = s.split()\n",
    "li = li[::-1]\n",
    "return ' '.join(li)\n",
    "print(t)"
   ]
  },
  {
   "cell_type": "code",
   "execution_count": 60,
   "id": "cb46dd6b",
   "metadata": {},
   "outputs": [
    {
     "name": "stdout",
     "output_type": "stream",
     "text": [
      "['a', 'good', 'example']\n",
      "example good a\n"
     ]
    }
   ],
   "source": [
    "def string(s):\n",
    "    l=s.split()\n",
    "    print(l)\n",
    "    l=l[::-1]\n",
    "    return ' '.join(l)\n",
    "s = \"a good   example    \"\n",
    "print(string(s))"
   ]
  },
  {
   "cell_type": "code",
   "execution_count": 92,
   "id": "13035829",
   "metadata": {},
   "outputs": [
    {
     "name": "stdout",
     "output_type": "stream",
     "text": [
      "True\n"
     ]
    }
   ],
   "source": [
    "nums = [1,2,3,4,5]\n",
    "b = False\n",
    "for i in range(len(nums)-1):\n",
    "    if nums[i] < nums[i + 1]:\n",
    "        c += 1\n",
    "        if c >= 2:\n",
    "            b = True\n",
    "            break\n",
    "print(b)"
   ]
  },
  {
   "cell_type": "code",
   "execution_count": 93,
   "id": "5f62e34b",
   "metadata": {},
   "outputs": [
    {
     "data": {
      "text/plain": [
       "inf"
      ]
     },
     "execution_count": 93,
     "metadata": {},
     "output_type": "execute_result"
    }
   ],
   "source": [
    "float(\"inf\")"
   ]
  },
  {
   "cell_type": "code",
   "execution_count": 179,
   "id": "2133192e",
   "metadata": {},
   "outputs": [
    {
     "name": "stdout",
     "output_type": "stream",
     "text": [
      "['a', 'b', '1', '2', 'b', 'b', 'b', 'b', 'b', 'b', 'b', 'b', 'b']\n",
      "4\n"
     ]
    }
   ],
   "source": [
    "\n",
    "def cal(chars):\n",
    "    l = 0\n",
    "    c = 0\n",
    "    ij = 0\n",
    "    n = 0\n",
    "    li = []\n",
    "    while ij < len(chars):\n",
    "        if chars[l] == chars[ij]:\n",
    "            c += 1\n",
    "            ij += 1\n",
    "        elif c == 1:\n",
    "            chars[n] = chars[ij-1]\n",
    "            n += 1\n",
    "            l = ij\n",
    "            c = 0\n",
    "        else:\n",
    "            chars[n] = chars[ij-1]\n",
    "            n += 1\n",
    "            for i in str(c):\n",
    "                chars[n] = i\n",
    "                n += 1\n",
    "            l = ij\n",
    "            c = 0\n",
    "    if c == 1:\n",
    "        chars[n] = chars[ij-1]\n",
    "        n += 1\n",
    "    else:\n",
    "        chars[n] = chars[ij-1]\n",
    "        n += 1\n",
    "        for i in str(c):\n",
    "            chars[n] = i\n",
    "            n += 1\n",
    "    print(chars)\n",
    "    return n\n",
    "chars = [\"a\",\"b\",\"b\",\"b\",\"b\",\"b\",\"b\",\"b\",\"b\",\"b\",\"b\",\"b\",\"b\"]\n",
    "print(cal(chars))"
   ]
  },
  {
   "cell_type": "code",
   "execution_count": 32,
   "id": "26c103a4",
   "metadata": {},
   "outputs": [
    {
     "name": "stdout",
     "output_type": "stream",
     "text": [
      "[1, 0, 0, 0]\n"
     ]
    }
   ],
   "source": [
    "nums = [1,0,0]\n",
    "c = nums.count(0)\n",
    "if len(nums) == c:\n",
    "    print(nums)\n",
    "else:\n",
    "    for i in nums:\n",
    "        if i== 0:\n",
    "            nums.remove(i)\n",
    "    for i in range(c):\n",
    "        nums.append(0)\n",
    "    print(nums)"
   ]
  },
  {
   "cell_type": "code",
   "execution_count": 28,
   "id": "5b56fb0b",
   "metadata": {},
   "outputs": [
    {
     "name": "stdout",
     "output_type": "stream",
     "text": [
      "[0, 0]\n"
     ]
    }
   ],
   "source": [
    "nums = [0, 0]\n",
    "c = nums.count(0)\n",
    "if len(nums) == c:\n",
    "    print(nums)"
   ]
  },
  {
   "cell_type": "code",
   "execution_count": 41,
   "id": "c6ae71c8",
   "metadata": {},
   "outputs": [
    {
     "name": "stdout",
     "output_type": "stream",
     "text": [
      "[1, 3, 12, 0, 0]\n"
     ]
    }
   ],
   "source": [
    "nums = [0,1,0,3,12]\n",
    "c = nums.count(0)\n",
    "li = []\n",
    "for i in nums:\n",
    "    if i != 0:\n",
    "        li.append(i)\n",
    "for i in range(c):\n",
    "    li.append(0)\n",
    "print(li)"
   ]
  },
  {
   "cell_type": "code",
   "execution_count": 48,
   "id": "67b0d0fb",
   "metadata": {},
   "outputs": [
    {
     "name": "stdout",
     "output_type": "stream",
     "text": [
      "[1, 0, 0]\n",
      "[1, 0, 0]\n"
     ]
    }
   ],
   "source": [
    "nums = [1, 0, 0]\n",
    "c = nums.count(0)\n",
    "m = 0\n",
    "a = 0\n",
    "while m < len(nums):\n",
    "    if nums[m] != 0:\n",
    "        nums[a] = nums[m]\n",
    "        a += 1\n",
    "    m += 1\n",
    "print(nums)\n",
    "l = len(nums) - 1\n",
    "for i in range(c):\n",
    "    nums[l] = 0\n",
    "    l -= 1\n",
    "print(nums)"
   ]
  },
  {
   "cell_type": "code",
   "execution_count": 4,
   "id": "b34103f0",
   "metadata": {},
   "outputs": [
    {
     "name": "stdout",
     "output_type": "stream",
     "text": [
      "[0, 1, 0, 3, 12]\n",
      "[1, 0, 0, 3, 12]\n",
      "[1, 0, 0, 3, 12]\n",
      "[1, 0, 3, 0, 12]\n",
      "[1, 0, 3, 0, 12]\n",
      "[1, 0, 3, 12, 0]\n",
      "[1, 0, 3, 12, 0]\n"
     ]
    }
   ],
   "source": [
    "num = [0,1,0,3,12]\n",
    "i = 0\n",
    "while i < len(num):\n",
    "    l = i\n",
    "    print(num)\n",
    "    if i > 2:\n",
    "        while num[l-1] == 0 and num[l] != 0:\n",
    "            num[l-1] = num[l]\n",
    "            num[l] = 0\n",
    "            l -=1\n",
    "            print(num)\n",
    "    else:\n",
    "        if num[i] == 0 and num[i+1] != 0:\n",
    "            num[i] = num[i+1]\n",
    "            num[i+1] = 0\n",
    "#             print(num)\n",
    "    i += 1\n",
    "print(num)"
   ]
  },
  {
   "cell_type": "code",
   "execution_count": 7,
   "id": "3d91cbd5",
   "metadata": {},
   "outputs": [
    {
     "data": {
      "text/plain": [
       "[1, 0, 0]"
      ]
     },
     "execution_count": 7,
     "metadata": {},
     "output_type": "execute_result"
    }
   ],
   "source": [
    "num = [1, 0, 0]\n",
    "for i in num:\n",
    "    if i == 0:\n",
    "        num.remove(i)\n",
    "        num.append(0)\n",
    "num"
   ]
  },
  {
   "cell_type": "code",
   "execution_count": 20,
   "id": "30f35e0d",
   "metadata": {},
   "outputs": [
    {
     "name": "stdout",
     "output_type": "stream",
     "text": [
      "a a 0 0\n",
      "False\n"
     ]
    }
   ],
   "source": [
    "s = \"axc\"\n",
    "t = \"ahbgdc\"\n",
    "a = \"\"\n",
    "j = 0\n",
    "i = 0\n",
    "for i in range(len(s)):\n",
    "    while j < len(t):\n",
    "        if s[i] == t[j]:\n",
    "            a += s[i]\n",
    "            j += 1\n",
    "            break\n",
    "        else:\n",
    "            j += 1\n",
    "if s == a:\n",
    "    print(True)\n",
    "else:\n",
    "    print(False)"
   ]
  },
  {
   "cell_type": "code",
   "execution_count": 49,
   "id": "8e09240d",
   "metadata": {},
   "outputs": [
    {
     "name": "stdout",
     "output_type": "stream",
     "text": [
      "1 2 4 8\n",
      "2 4 3 12\n",
      "2 5 2 10\n",
      "2 1 1 1\n"
     ]
    }
   ],
   "source": [
    "height = [1,8,6,2,5,4,8,3,7]\n",
    "l = len(height) - 1\n",
    "s = 0\n",
    "while s < l:\n",
    "    if height[s] < height[l]:\n",
    "        print(\"1\", height[s], l, height[s]*l)\n",
    "        s += 1\n",
    "    else:\n",
    "        print(\"2\", height[l], l-s, height[l]*(l-s))\n",
    "        l -= 1\n",
    "        \n",
    "        "
   ]
  },
  {
   "cell_type": "markdown",
   "id": "dfaa27fc",
   "metadata": {},
   "source": [
    "# Find the maximum number of water filled\n",
    "<img src=\"water_graph.png\" style=\"width:500px; height:250px\"/>\n",
    "\n",
    "You are given an integer array height of length n. There are n vertical lines drawn such that the two endpoints of the ith line are (i, 0) and (i, height[i]).\n",
    "\n",
    "Find two lines that together with the x-axis form a container, such that the container contains the most water.\n",
    "\n",
    "Return the maximum amount of water a container can store.\n",
    "\n",
    "Notice that you may not slant the container.\n",
    "\n",
    "Input: height = [1,8,6,2,5,4,8,3,7]\n",
    "Output: 49\n",
    "Explanation: The above vertical lines are represented by array [1,8,6,2,5,4,8,3,7]. In this case, the max area of water (blue section) the container can contain is 49."
   ]
  },
  {
   "cell_type": "code",
   "execution_count": 67,
   "id": "2c281395",
   "metadata": {},
   "outputs": [
    {
     "name": "stdout",
     "output_type": "stream",
     "text": [
      "1 1 8 8\n",
      "2 7 7 49\n",
      "1 8 6 48\n",
      "1 6 5 30\n",
      "1 2 4 8\n",
      "1 5 3 15\n",
      "1 4 2 8\n",
      "1 8 1 8\n",
      "49\n"
     ]
    }
   ],
   "source": [
    " \n",
    "l = len(height) - 1\n",
    "s = 0\n",
    "mx = 0\n",
    "while s < l:\n",
    "    if height[s] < height[l]:\n",
    "        if height[s]*(l-s) > mx:\n",
    "            mx = height[s]*(l-s)\n",
    "#         print(\"1\", height[s], l-s, height[s]*(l-s))\n",
    "            \n",
    "        s += 1\n",
    "    else:\n",
    "        if height[l]*(l-s) > mx:\n",
    "            mx = height[l]*(l-s)\n",
    "#         print(\"2\", height[l], l-s, height[l]*(l-s))\n",
    "        l -= 1\n",
    "print(mx)"
   ]
  },
  {
   "cell_type": "code",
   "execution_count": 90,
   "id": "5a11f506",
   "metadata": {},
   "outputs": [
    {
     "name": "stdout",
     "output_type": "stream",
     "text": [
      "0\n",
      "1 1 2\n",
      "1 2 3\n",
      "1 3 4\n",
      "1 4 5\n",
      "1\n",
      "2 2 4\n",
      "2 3 5\n",
      "2 4 6\n",
      "2\n",
      "3 3 6\n",
      "3 4 7\n",
      "3\n",
      "4 4 8\n",
      "8 2\n"
     ]
    }
   ],
   "source": [
    "nums = [1,2,3,4]\n",
    "k = 5\n",
    "c = 0\n",
    "i = 0\n",
    "cou = 0\n",
    "while i < len(nums):\n",
    "    print(i)\n",
    "    j = i\n",
    "    while j < len(nums): \n",
    "        c = nums[i] + nums[j]\n",
    "        if c == k:\n",
    "            cou += 1\n",
    "        print(nums[i], nums[j], c)\n",
    "        j += 1\n",
    "    i += 1\n",
    "print(c, cou)"
   ]
  },
  {
   "cell_type": "code",
   "execution_count": 12,
   "id": "bd99bd8f",
   "metadata": {},
   "outputs": [
    {
     "name": "stdout",
     "output_type": "stream",
     "text": [
      "1 3 4\n",
      "1 1 2\n",
      "[4, 4, -1000, 3, -1000, 3, 2, 2, 5, 5, 1, 5, 2, 1, 2, 3, 5, 4]\n",
      "-1000 3 -997\n",
      "-1000 2 -998\n",
      "-1000 2 -998\n",
      "-1000 5 -995\n",
      "-1000 5 -995\n",
      "-1000 1 -999\n",
      "-1000 5 -995\n",
      "-1000 2 -998\n",
      "-1000 1 -999\n",
      "-1000 2 -998\n",
      "-1000 3 -997\n",
      "-1000 5 -995\n",
      "-1000 4 -996\n",
      "1 5 6\n",
      "1 2 3\n",
      "1 1 2\n",
      "[4, 4, -1000, 3, -1000, 3, 2, 2, 5, 5, -1000, 5, 2, -1000, 2, 3, 5, 4]\n",
      "-1000 2 -998\n",
      "-1000 3 -997\n",
      "-1000 5 -995\n",
      "-1000 4 -996\n",
      "-996 2\n",
      "[4, 2, 13, 10]\n"
     ]
    }
   ],
   "source": [
    "nums = [4,4,1,3,1,3,2,2,5,5,1,5,2,1,2,3,5,4]\n",
    "k = 2\n",
    "li = []\n",
    "c = 0\n",
    "i = 0\n",
    "j = 0\n",
    "cou = 0\n",
    "while i < len(nums):\n",
    "    j = i\n",
    "    if nums[i] < k:\n",
    "        while j < len(nums)-1:\n",
    "            j += 1\n",
    "            if i not in li or j not in li:\n",
    "                c = nums[i] + nums[j]\n",
    "                print(nums[i], nums[j], c)\n",
    "                if c == k:\n",
    "                    cou += 1\n",
    "                    li.append(j)\n",
    "                    li.append(i)\n",
    "                    nums[j] = -1000\n",
    "                    nums[i] = -1000\n",
    "                    print(nums)\n",
    "                    break\n",
    "    i += 1\n",
    "print(c, cou)\n",
    "print(li)"
   ]
  },
  {
   "cell_type": "code",
   "execution_count": 18,
   "id": "e5785b13",
   "metadata": {},
   "outputs": [
    {
     "name": "stdout",
     "output_type": "stream",
     "text": [
      "1\n"
     ]
    }
   ],
   "source": [
    "nums = [3,1,3,4,3]\n",
    "k = 6\n",
    "c = 0\n",
    "i = 0\n",
    "j = 0\n",
    "cou = 0\n",
    "while i < len(nums):\n",
    "    j = i\n",
    "    if nums[i] < k:\n",
    "        while j < len(nums)-1: \n",
    "            j += 1\n",
    "            c = nums[i] + nums[j]\n",
    "            if c == k:\n",
    "                cou += 1\n",
    "                nums[j] = -1000\n",
    "                nums[i] = -1000\n",
    "                break\n",
    "    i += 1\n",
    "print(cou)"
   ]
  },
  {
   "cell_type": "code",
   "execution_count": 2,
   "id": "a33073a0",
   "metadata": {},
   "outputs": [
    {
     "name": "stdout",
     "output_type": "stream",
     "text": [
      "[1, 2, 3, 4, 5] 3\n"
     ]
    }
   ],
   "source": [
    "from collections import defaultdict\n",
    "def maxOperations(nums, k):\n",
    "        counter = defaultdict(int)\n",
    "        co = 0\n",
    "        for x in nums:\n",
    "            comp = k - x\n",
    "            if counter[comp]>0:\n",
    "                counter[comp]-=1\n",
    "                co+=1\n",
    "            else:\n",
    "                counter[x] +=1\n",
    "        return co\n",
    "nums = [1, 2, 3, 4, 5]\n",
    "k = 3\n",
    "print(nums, k)"
   ]
  },
  {
   "cell_type": "code",
   "execution_count": 5,
   "id": "b8b07244",
   "metadata": {},
   "outputs": [
    {
     "name": "stdout",
     "output_type": "stream",
     "text": [
      "2 3 1\n",
      "comp =  2 dic[comp] =  0\n",
      "1 3 2\n",
      "comp =  1 dic[comp] =  1\n",
      "True 1\n",
      "0 3 3\n",
      "comp =  0 dic[comp] =  0\n",
      "-1 3 4\n",
      "comp =  -1 dic[comp] =  0\n",
      "-2 3 5\n",
      "comp =  -2 dic[comp] =  0\n",
      "1\n"
     ]
    }
   ],
   "source": [
    "from collections import defaultdict\n",
    "def maxOperations(nums, k):\n",
    "        counter = defaultdict(int)\n",
    "        co = 0\n",
    "        for x in nums:\n",
    "            comp = k - x\n",
    "            print(comp, k, x)\n",
    "            print(\"comp = \", comp, \"dic[comp] = \", counter[comp])\n",
    "            if counter[comp]>0:\n",
    "                print(True, counter[comp])\n",
    "                counter[comp]-=1\n",
    "                co+=1\n",
    "            else:\n",
    "                counter[x] +=1\n",
    "        return co\n",
    "nums = [1, 2, 3, 4, 5]\n",
    "k = 3\n",
    "print(maxOperations(nums, k))"
   ]
  },
  {
   "cell_type": "code",
   "execution_count": null,
   "id": "86107e50",
   "metadata": {},
   "outputs": [],
   "source": []
  }
 ],
 "metadata": {
  "kernelspec": {
   "display_name": "Python 3 (ipykernel)",
   "language": "python",
   "name": "python3"
  },
  "language_info": {
   "codemirror_mode": {
    "name": "ipython",
    "version": 3
   },
   "file_extension": ".py",
   "mimetype": "text/x-python",
   "name": "python",
   "nbconvert_exporter": "python",
   "pygments_lexer": "ipython3",
   "version": "3.9.11"
  }
 },
 "nbformat": 4,
 "nbformat_minor": 5
}
