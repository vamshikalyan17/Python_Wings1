{
 "cells": [
  {
   "cell_type": "code",
   "execution_count": null,
   "id": "89757433-501f-4894-af5a-885c5257d524",
   "metadata": {},
   "outputs": [],
   "source": [
    "import mysql.connector\n",
    "db = myql.connector.connect(\n",
    "host=\"localhost\",\n",
    "    user=\"root\",\n",
    "    password=\"\"\n",
    ")\n",
    "print(db)"
   ]
  }
 ],
 "metadata": {
  "kernelspec": {
   "display_name": "Python 3 (ipykernel)",
   "language": "python",
   "name": "python3"
  },
  "language_info": {
   "codemirror_mode": {
    "name": "ipython",
    "version": 3
   },
   "file_extension": ".py",
   "mimetype": "text/x-python",
   "name": "python",
   "nbconvert_exporter": "python",
   "pygments_lexer": "ipython3",
   "version": "3.9.11"
  }
 },
 "nbformat": 4,
 "nbformat_minor": 5
}
