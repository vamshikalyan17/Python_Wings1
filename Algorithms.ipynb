{
 "cells": [
  {
   "cell_type": "markdown",
   "id": "7914575e",
   "metadata": {},
   "source": [
    "# Linear Search Algorithm"
   ]
  },
  {
   "cell_type": "code",
   "execution_count": 5,
   "id": "15d289fb",
   "metadata": {},
   "outputs": [
    {
     "name": "stdout",
     "output_type": "stream",
     "text": [
      "56 10\n"
     ]
    }
   ],
   "source": [
    "li = [6, 2, 3, 4, 8, 9, 10, 22, 34, 56, 78]\n",
    "a = 56\n",
    "if(a in li):\n",
    "    print(a, li.index(a) + 1)\n",
    "else:\n",
    "    print(\"Not found\")"
   ]
  },
  {
   "cell_type": "code",
   "execution_count": 9,
   "id": "4bccfba6",
   "metadata": {},
   "outputs": [
    {
     "name": "stdout",
     "output_type": "stream",
     "text": [
      "Element not found\n"
     ]
    }
   ],
   "source": [
    "b = False\n",
    "for i in li:\n",
    "    if i == 46:\n",
    "        b = True\n",
    "if(b):\n",
    "    print(\"Element found\")\n",
    "else:\n",
    "    print(\"Element not found\")"
   ]
  },
  {
   "cell_type": "code",
   "execution_count": 13,
   "id": "0c7a94fe",
   "metadata": {},
   "outputs": [
    {
     "name": "stdout",
     "output_type": "stream",
     "text": [
      "Element Not Found\n"
     ]
    }
   ],
   "source": [
    "li = [6, 2, 3, 4, 8, 9, 10, 22, 34, 56, 78]\n",
    "a = 83\n",
    "b = False\n",
    "for i in range(len(li)):\n",
    "    if li[i] == a:\n",
    "        b = True\n",
    "        print(i + 1)\n",
    "        break\n",
    "if(b):\n",
    "    print(\"Element Found\")\n",
    "else:\n",
    "    print(\"Element Not Found\")"
   ]
  },
  {
   "cell_type": "markdown",
   "id": "8afacceb",
   "metadata": {},
   "source": [
    "# Binary Search"
   ]
  },
  {
   "cell_type": "code",
   "execution_count": 14,
   "id": "08e9ae85",
   "metadata": {},
   "outputs": [
    {
     "name": "stdout",
     "output_type": "stream",
     "text": [
      "Greater than 6 11 5\n",
      "less than 6 7 8\n",
      "10\n"
     ]
    }
   ],
   "source": [
    "\n",
    "def binary_search(s, l, li, data):\n",
    "    if l >= s:\n",
    "        mid = (s + l) // 2\n",
    "# Check if mid == data\n",
    "        if li[mid] == data:\n",
    "            return li[mid]\n",
    "#         check if mid is less than data if true then assign length = mid - 1\n",
    "        elif data < li[mid]:\n",
    "            print(\"less than\", s, mid-1, mid)\n",
    "            return binary_search(s, mid-1, li, data)\n",
    "#         check if mid is greater than data if true then assign start = mid + 1  \n",
    "        elif data > li[mid]:\n",
    "            print(\"Greater than\", mid+1, l, mid)\n",
    "            return binary_search(mid+1, l, li, data)\n",
    "        \n",
    "    else:\n",
    "        return -1\n",
    "\n",
    "li = [6, 2, 3, 4, 8, 9, 10, 22, 34, 56, 78]\n",
    "data = 10\n",
    "li1 = li.sort()\n",
    "# print((0 + len(li)) // 2)\n",
    "print(binary_search(0, len(li), li, data))"
   ]
  },
  {
   "cell_type": "code",
   "execution_count": 37,
   "id": "12131655",
   "metadata": {},
   "outputs": [
    {
     "name": "stdout",
     "output_type": "stream",
     "text": [
      "Greater than 5 8\n",
      "7\n"
     ]
    }
   ],
   "source": [
    "def binary_search(s, l, li, data):\n",
    "    if l >= s and data <= li[len(li)-1]:\n",
    "        mid = (s + l) // 2\n",
    "        if data == li[mid]:\n",
    "            return mid + 1\n",
    "        elif data > li[mid]:\n",
    "            print(\"Greater than\", mid+1, l)\n",
    "            return binary_search(mid + 1, l, li, data)\n",
    "        else:\n",
    "            print(\"less than\", mid+1, l)\n",
    "            return binary_search(s, mid - 1, li, data)\n",
    "    else:\n",
    "        return -1\n",
    "li = [12, 23, 34, 45, 56, 67, 78, 89]\n",
    "data = 78\n",
    "\n",
    "print(binary_search(0, len(li), li, data))"
   ]
  },
  {
   "cell_type": "markdown",
   "id": "0fda9361",
   "metadata": {},
   "source": [
    "# Bubble sort"
   ]
  },
  {
   "cell_type": "code",
   "execution_count": 11,
   "id": "99c08e02",
   "metadata": {},
   "outputs": [
    {
     "name": "stdout",
     "output_type": "stream",
     "text": [
      "[1, 21, 32, 43, 54, 65, 76, 98]\n"
     ]
    }
   ],
   "source": [
    "li = [98, 76, 65, 54, 43, 32, 21, 1]\n",
    "l = len(li)\n",
    "for i in range(l):\n",
    "    for j in range(l-1):\n",
    "        if li[j] > li[j + 1]:\n",
    "#           Swapping\n",
    "            temp = li[j]\n",
    "            li[j] = li[j + 1]\n",
    "            li[j + 1] = temp\n",
    "    l -=1\n",
    "print(li)"
   ]
  },
  {
   "cell_type": "code",
   "execution_count": 10,
   "id": "27462fbd",
   "metadata": {},
   "outputs": [
    {
     "name": "stdout",
     "output_type": "stream",
     "text": [
      "[1, 21, 32, 43, 54, 65, 76, 98]\n"
     ]
    }
   ],
   "source": [
    "li = [98, 76, 65, 54, 43, 32, 21, 1]\n",
    "l = len(li)\n",
    "for i in range(l):\n",
    "    for j in range(l-1):\n",
    "        if li[j] > li[j + 1]:\n",
    "#            Simple swapping\n",
    "            li[j], li[j + 1] = li[j + 1], li[j]\n",
    "    l -=1\n",
    "print(li)"
   ]
  },
  {
   "cell_type": "markdown",
   "id": "25a5bba3",
   "metadata": {},
   "source": [
    "# Insertion Sort"
   ]
  },
  {
   "cell_type": "code",
   "execution_count": 46,
   "id": "7e3db950",
   "metadata": {},
   "outputs": [
    {
     "name": "stdout",
     "output_type": "stream",
     "text": [
      "5 i =  4\n",
      "4 5 i =  10\n",
      "10 4 5 i =  1\n",
      "1 10 4 5 i =  6\n",
      "6 1 10 4 5 i =  2\n"
     ]
    }
   ],
   "source": [
    "li = [5, 4, 10, 1, 6, 2]\n",
    "for i in range(len(li)-1):\n",
    "    for j in range(i + 1, 0, -1):\n",
    "        temp = i\n",
    "        print(li[j-1],  end = \" \")\n",
    "    print(\"i = \",  li[i + 1])"
   ]
  },
  {
   "cell_type": "code",
   "execution_count": 45,
   "id": "8967f949",
   "metadata": {},
   "outputs": [
    {
     "name": "stdout",
     "output_type": "stream",
     "text": [
      "i =  0\n",
      "temp 4 [4, 5, 10, 1, 6, 2]\n",
      "i =  1\n",
      "temp 10 [4, 5, 10, 1, 6, 2]\n",
      "i =  2\n",
      "temp 1 [1, 4, 5, 10, 6, 2]\n",
      "i =  3\n",
      "temp 6 [1, 4, 5, 6, 10, 2]\n",
      "i =  4\n",
      "temp 2 [1, 2, 4, 5, 6, 10]\n"
     ]
    }
   ],
   "source": [
    "li = [5, 4, 10, 1, 6, 2]\n",
    "c = 0\n",
    "for i in range(len(li)-1):\n",
    "    temp = li[i + 1]\n",
    "    print(\"i = \", i)\n",
    "    print(\"temp\",temp, end = \" \")\n",
    "    for j in range(i + 1, 0, -1):\n",
    "        if li[j-1] > temp:\n",
    "            li[i + 1] = li[j-1]\n",
    "            c += 1\n",
    "            i -= 1\n",
    "            if i < 0:\n",
    "                li[0] = temp\n",
    "                break\n",
    "        elif c > 0 and j > 0:\n",
    "            li[j] = temp\n",
    "            break\n",
    "    print(li)\n",
    "#         print(li[j-1],  end = \" \")\n",
    "#     print()\n",
    "# li"
   ]
  },
  {
   "cell_type": "code",
   "execution_count": 23,
   "id": "90d2f5fb",
   "metadata": {},
   "outputs": [
    {
     "name": "stdout",
     "output_type": "stream",
     "text": [
      "j =  1 \n",
      "j =  2 \n",
      "j =  3 j =  2 j =  1 \n",
      "j =  4 j =  3 \n",
      "j =  5 j =  4 j =  3 j =  2 j =  1 \n",
      "j =  6 j =  5 j =  4 j =  3 j =  2 j =  1 \n"
     ]
    },
    {
     "data": {
      "text/plain": [
       "[-1, 1, 2, 4, 5, 6, 10]"
      ]
     },
     "execution_count": 23,
     "metadata": {},
     "output_type": "execute_result"
    }
   ],
   "source": [
    "li = [5, 4, 10, 1, 6, 2, -1]\n",
    "c = 0\n",
    "for i in range(len(li)-1):\n",
    "    temp = li[i + 1]\n",
    "\n",
    "    for j in range(i + 1, 0, -1):\n",
    "        print(\"j = \", j, end = \" \")\n",
    "        if li[j-1] > temp:\n",
    "            li[i + 1] = li[j-1]\n",
    "            c += 1\n",
    "            i -= 1\n",
    "            if i < 0:\n",
    "                li[0] = temp\n",
    "                break\n",
    "        elif c > 0 and j > 0:\n",
    "            li[j] = temp\n",
    "            break\n",
    "    print()\n",
    "\n",
    "li"
   ]
  },
  {
   "cell_type": "code",
   "execution_count": 29,
   "id": "456036b1",
   "metadata": {},
   "outputs": [
    {
     "name": "stdout",
     "output_type": "stream",
     "text": [
      "[-1, 1, 2, 4, 5, 6, 10]\n"
     ]
    }
   ],
   "source": [
    "li = [5, 4, 10, 1, 6, 2, -1]\n",
    "c = 0\n",
    "for i in range(len(li) - 1):\n",
    "    temp = li[i + 1]\n",
    "    for j in range(i + 1, 0, -1):\n",
    "        if li[j-1] > temp:\n",
    "            li[j] = li[j-1]\n",
    "            c += 1\n",
    "            if j < 2:\n",
    "                li[0] = temp\n",
    "                break\n",
    "        elif c > 0 and j > 0:\n",
    "            li[j] = temp\n",
    "            break\n",
    "print(li)"
   ]
  },
  {
   "cell_type": "code",
   "execution_count": 32,
   "id": "31af5b41",
   "metadata": {},
   "outputs": [
    {
     "name": "stdout",
     "output_type": "stream",
     "text": [
      "10\n",
      "9\n",
      "8\n",
      "7\n",
      "6\n",
      "5\n",
      "4\n",
      "3\n",
      "2\n",
      "1\n",
      "0\n"
     ]
    }
   ],
   "source": [
    "for i in range(10, -1, -1):\n",
    "    print(i)"
   ]
  },
  {
   "cell_type": "code",
   "execution_count": 14,
   "id": "720ccdc8",
   "metadata": {},
   "outputs": [
    {
     "name": "stdout",
     "output_type": "stream",
     "text": [
      "2 4\n",
      "16 32 96\n",
      "3\n"
     ]
    }
   ],
   "source": [
    "def getTotalX(a, b):\n",
    "    # Write your code here\n",
    "    c=0\n",
    "    for i in range(max(a),min(b)+1):\n",
    "#         print(i)\n",
    "        \n",
    "        if all([i%e==0 for e in a]):\n",
    "#             print(\"First i\", i, [i%e for e in a])\n",
    "#             print(\"second i\", i, [e%i for e in b])\n",
    "            if all([e%i==0 for e in b]):\n",
    "#                 print(\"second\", i)\n",
    "                c+=1\n",
    "    return c\n",
    "\n",
    "n = list(map(int, input().split()))\n",
    "m = list(map(int, input().split()))\n",
    "print(getTotalX(n, m))"
   ]
  },
  {
   "cell_type": "markdown",
   "id": "5dc435cc",
   "metadata": {},
   "source": [
    "Maria plays college basketball and wants to go pro. Each season she maintains a record of her play. She tabulates the number of times she breaks her season record for most points and least points in a game. Points scored in the first game establish her record for the season, and she begins counting from there.\n",
    "\n",
    "Example\n",
    "\n",
    "Scores are in the same order as the games played. She tabulates her results as follows:\n",
    "\n",
    "                                     Count\n",
    "    Game  Score  Minimum  Maximum   Min Max\n",
    "     0      12     12       12       0   0\n",
    "     1      24     12       24       0   1\n",
    "     2      10     10       24       1   1\n",
    "     3      24     10       24       1   1\n",
    "\n",
    "\n",
    "\n",
    "## Sample Input 0\n",
    "\n",
    "9\n",
    "10 5 20 20 4 5 2 25 1\n",
    "Sample Output 0\n",
    "\n",
    "2 4\n",
    "Explanation 0\n",
    "\n",
    "## Sample Input 1\n",
    "\n",
    "10\n",
    "3 4 21 36 10 28 35 5 24 42\n",
    "Sample Output 1\n",
    "\n",
    "4 0\n"
   ]
  },
  {
   "cell_type": "code",
   "execution_count": 40,
   "id": "f76bde3d",
   "metadata": {},
   "outputs": [
    {
     "name": "stdout",
     "output_type": "stream",
     "text": [
      "100 45 41 60 17 41 45 43 100 40 89 92 34 6 64 7 37 81 32 50\n",
      "[100, 100, 100, 100, 100, 100, 100, 100, 100, 100, 100, 100, 100, 100, 100, 100, 100, 100, 100, 100]\n",
      "[100, 45, 41, 41, 17, 17, 17, 17, 17, 17, 17, 17, 17, 6, 6, 6, 6, 6, 6, 6]\n",
      "0 4\n"
     ]
    }
   ],
   "source": [
    "n = list(map(int, input().split()))\n",
    "m = n[0]\n",
    "high = []\n",
    "low = []\n",
    "c = 0\n",
    "for i in n:\n",
    "    if i > m:\n",
    "        m = i\n",
    "        c += 1\n",
    "    high.append(m)\n",
    "l = n[0]\n",
    "d = 0\n",
    "for i in n:\n",
    "    if i < l:\n",
    "        l = i\n",
    "        d += 1\n",
    "    low.append(l)\n",
    "print(high)\n",
    "print(low)\n",
    "\n",
    "if d == -1:\n",
    "    d == 0\n",
    "print(c, d)"
   ]
  },
  {
   "cell_type": "code",
   "execution_count": null,
   "id": "9d6f7578",
   "metadata": {},
   "outputs": [],
   "source": []
  },
  {
   "cell_type": "code",
   "execution_count": null,
   "id": "fa093a84",
   "metadata": {},
   "outputs": [],
   "source": []
  }
 ],
 "metadata": {
  "kernelspec": {
   "display_name": "Python 3 (ipykernel)",
   "language": "python",
   "name": "python3"
  },
  "language_info": {
   "codemirror_mode": {
    "name": "ipython",
    "version": 3
   },
   "file_extension": ".py",
   "mimetype": "text/x-python",
   "name": "python",
   "nbconvert_exporter": "python",
   "pygments_lexer": "ipython3",
   "version": "3.9.11"
  }
 },
 "nbformat": 4,
 "nbformat_minor": 5
}
