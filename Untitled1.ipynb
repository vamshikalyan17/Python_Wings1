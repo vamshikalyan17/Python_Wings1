{
 "cells": [
  {
   "cell_type": "code",
   "execution_count": 1,
   "id": "9aa3f42f",
   "metadata": {},
   "outputs": [
    {
     "name": "stdout",
     "output_type": "stream",
     "text": [
      "Hello World\n"
     ]
    }
   ],
   "source": [
    "print(\"Hello World\")"
   ]
  },
  {
   "cell_type": "code",
   "execution_count": 3,
   "id": "98eee865",
   "metadata": {},
   "outputs": [
    {
     "name": "stdout",
     "output_type": "stream",
     "text": [
      "10 3\n"
     ]
    }
   ],
   "source": [
    "a, b = 10, 3\n",
    "print(a, b)"
   ]
  },
  {
   "cell_type": "code",
   "execution_count": 4,
   "id": "f19770f5",
   "metadata": {},
   "outputs": [
    {
     "name": "stdout",
     "output_type": "stream",
     "text": [
      "10 10\n"
     ]
    }
   ],
   "source": [
    "a = b = 10\n",
    "\n",
    "print(a, b)"
   ]
  },
  {
   "cell_type": "code",
   "execution_count": 6,
   "id": "bca12c67",
   "metadata": {},
   "outputs": [
    {
     "name": "stdout",
     "output_type": "stream",
     "text": [
      "1 2 3\n"
     ]
    }
   ],
   "source": [
    "a, b, c = [1, 2, 3]\n",
    "print(a, b, c)"
   ]
  },
  {
   "cell_type": "code",
   "execution_count": 16,
   "id": "e060a78e",
   "metadata": {},
   "outputs": [
    {
     "name": "stdout",
     "output_type": "stream",
     "text": [
      "Counter({4: 3, 3: 2, 5: 2, 1: 1, 2: 1, 6: 1})\n"
     ]
    }
   ],
   "source": [
    "from collections import Counter\n",
    "\n",
    "print(Counter([1, 2, 3, 3, 4, 4, 5, 6, 5, 4]))"
   ]
  },
  {
   "cell_type": "code",
   "execution_count": 18,
   "id": "77ef1367",
   "metadata": {},
   "outputs": [
    {
     "name": "stdout",
     "output_type": "stream",
     "text": [
      "Counter({'A': 3, 'B': 2, 'D': 1, 1: 1, 4: 1, 3: 1})\n"
     ]
    }
   ],
   "source": [
    "print(Counter(['A', 'B', 'D', 'B', 'A', 'A', 1, 4, 3]))"
   ]
  },
  {
   "cell_type": "code",
   "execution_count": 19,
   "id": "1270b2b9",
   "metadata": {},
   "outputs": [
    {
     "name": "stdout",
     "output_type": "stream",
     "text": [
      "dict_items([('name', 'vamshi'), ('age', 22), ('company', 'TCS')])\n"
     ]
    }
   ],
   "source": [
    "D = {\"name\": \"vamshi\",\n",
    "    \"age\": 22,\n",
    "    \"company\": \"TCS\"}\n",
    "print(D.items())"
   ]
  },
  {
   "cell_type": "code",
   "execution_count": 20,
   "id": "a034af13",
   "metadata": {},
   "outputs": [
    {
     "name": "stdout",
     "output_type": "stream",
     "text": [
      "name vamshi\n",
      "age 22\n",
      "company TCS\n"
     ]
    }
   ],
   "source": [
    "for i, j in D.items():\n",
    "    print(i, j)"
   ]
  },
  {
   "cell_type": "code",
   "execution_count": 25,
   "id": "64802c92",
   "metadata": {},
   "outputs": [
    {
     "name": "stdout",
     "output_type": "stream",
     "text": [
      "name vamshi\n",
      "age 22\n",
      "compeny TCS\n",
      "age 22\n",
      "compeny TCS\n",
      "name Krishna\n"
     ]
    }
   ],
   "source": [
    "from collections import OrderedDict\n",
    "\n",
    "a = OrderedDict()\n",
    "a[\"name\"] = \"vamshi\"\n",
    "a[\"age\"] = 22\n",
    "a[\"compeny\"] = \"TCS\"\n",
    "\n",
    "for i, j in a.items():\n",
    "    print(i, j)\n",
    "\n",
    "a.pop(\"name\")\n",
    "a[\"name\"] = \"Krishna\"\n",
    "\n",
    "for i, j in a.items():\n",
    "    print(i, j)"
   ]
  },
  {
   "cell_type": "code",
   "execution_count": 28,
   "id": "91f6eed3",
   "metadata": {},
   "outputs": [
    {
     "name": "stdout",
     "output_type": "stream",
     "text": [
      "defaultdict(<class 'list'>, {4: [4], 5: [5], 6: [6], 7: [7], 8: [8], 9: [9]})\n"
     ]
    }
   ],
   "source": [
    "from collections import defaultdict\n",
    "\n",
    "dd = defaultdict(list)\n",
    "\n",
    "for i in range(4, 10):\n",
    "    dd[i].append(i)\n",
    "print(dd)"
   ]
  },
  {
   "cell_type": "code",
   "execution_count": 30,
   "id": "cb592e6e",
   "metadata": {},
   "outputs": [
    {
     "name": "stdout",
     "output_type": "stream",
     "text": [
      "1\n",
      "2\n",
      "Not Present\n"
     ]
    }
   ],
   "source": [
    "dd1 = defaultdict(lambda: \"Not Present\")\n",
    "\n",
    "dd1[\"a\"] = 1\n",
    "dd1[\"b\"] = 2\n",
    "\n",
    "print(dd1[\"a\"])\n",
    "print(dd1[\"b\"])\n",
    "print(dd1[\"c\"])"
   ]
  },
  {
   "cell_type": "code",
   "execution_count": null,
   "id": "9c9a870c",
   "metadata": {},
   "outputs": [],
   "source": []
  }
 ],
 "metadata": {
  "kernelspec": {
   "display_name": "Python 3 (ipykernel)",
   "language": "python",
   "name": "python3"
  },
  "language_info": {
   "codemirror_mode": {
    "name": "ipython",
    "version": 3
   },
   "file_extension": ".py",
   "mimetype": "text/x-python",
   "name": "python",
   "nbconvert_exporter": "python",
   "pygments_lexer": "ipython3",
   "version": "3.9.11"
  }
 },
 "nbformat": 4,
 "nbformat_minor": 5
}
